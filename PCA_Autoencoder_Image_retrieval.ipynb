{
 "cells": [
  {
   "cell_type": "code",
   "execution_count": 1,
   "metadata": {},
   "outputs": [
    {
     "name": "stdout",
     "output_type": "stream",
     "text": [
      "tf.estimator package not installed.\n",
      "tf.estimator package not installed.\n"
     ]
    },
    {
     "name": "stderr",
     "output_type": "stream",
     "text": [
      "Using TensorFlow backend.\n"
     ]
    }
   ],
   "source": [
    "import sys\n",
    "import os\n",
    "import cv2\n",
    "import numpy as np\n",
    "import tensorflow\n",
    "import tensorflow as tf\n",
    "import keras\n",
    "import keras, keras.layers as L\n",
    "sys.path.append(\"..\")\n",
    "from skimage.color import rgb2gray\n",
    "import keras\n",
    "from keras.models import load_model\n",
    "from keras.layers import Input, Dense, Conv2D, MaxPooling2D, UpSampling2D, BatchNormalization, Activation\n",
    "from keras.models import Model\n",
    "from keras.callbacks import EarlyStopping, ModelCheckpoint\n",
    "from keras.optimizers import Adam\n",
    "import os\n",
    "import pickle\n",
    "import numpy as np"
   ]
  },
  {
   "cell_type": "code",
   "execution_count": 2,
   "metadata": {},
   "outputs": [],
   "source": [
    "#Load images\n",
    "def load_data(data_directory):\n",
    "    directories = [d for d in os.listdir(data_directory) \n",
    "                   if os.path.isdir(os.path.join(data_directory, d))]\n",
    "    labels = []\n",
    "    images = []\n",
    "    for d in directories:\n",
    "        label_directory = os.path.join(data_directory, d)\n",
    "        file_names = [os.path.join(label_directory, f) \n",
    "                      for f in os.listdir(label_directory) \n",
    "                      if f.endswith(\".ppm\")]\n",
    "        for f in file_names:\n",
    "            images.append(cv2.imread(f))\n",
    "            labels.append(int(d))\n",
    "    return images, labels\n",
    "ROOT_PATH = \"\"\n",
    "train_data_directory = os.path.join(ROOT_PATH, \"Training\")\n",
    "test_data_directory = os.path.join(ROOT_PATH, \"Testing\")\n",
    "\n",
    "\n",
    "x_train, y_train = load_data(train_data_directory)\n",
    "x_train = np.array(x_train)\n",
    "y_train = np.array(y_train)\n",
    "\n",
    "x_test, y_test = load_data(test_data_directory)\n",
    "x_test = np.array(x_test)\n",
    "y_test = np.array(y_test)\n",
    "#Preprocess\n",
    "x_test = [cv2.resize(image, (28, 28)) for image in x_test]\n",
    "x_train = [cv2.resize(image, (28, 28)) for image in x_train]\n",
    "x_test = np.array(x_test)\n",
    "x_train = np.array(x_train)\n",
    "x_train = x_train.astype('float32') / 255.0 - 0.5\n",
    "x_test = x_test.astype('float32') / 255.0 - 0.5\n",
    "x_train=rgb2gray(x_train)\n",
    "x_test=rgb2gray(x_test)\n",
    "\n",
    "y_train = np.reshape(y_train,[y_train.shape[0],1])\n",
    "y_test = np.reshape(y_test,[y_test.shape[0],1])"
   ]
  },
  {
   "cell_type": "code",
   "execution_count": 3,
   "metadata": {},
   "outputs": [],
   "source": [
    "import matplotlib.pyplot as plt\n",
    "\n",
    "def show_image(x):\n",
    "    plt.imshow(np.clip(x + 0.5, 0, 1))\n",
    "    \n",
    "IMG_SHAPE = x_train[0].shape\n",
    "\n",
    "show_image(np.array(x_train[0]))"
   ]
  },
  {
   "cell_type": "code",
   "execution_count": 4,
   "metadata": {},
   "outputs": [
    {
     "data": {
      "text/plain": [
       "(28, 28)"
      ]
     },
     "execution_count": 4,
     "metadata": {},
     "output_type": "execute_result"
    }
   ],
   "source": [
    "IMG_SHAPE"
   ]
  },
  {
   "cell_type": "code",
   "execution_count": 13,
   "metadata": {},
   "outputs": [],
   "source": [
    "def build_pca_autoencoder(img_shape,code_size=32):\n",
    "    \"\"\"\n",
    "    Here we define a simple linear autoencoder as described above.\n",
    "    We also flatten and un-flatten data to be compatible with image shapes\n",
    "    \"\"\"\n",
    "    \n",
    "    encoder = keras.models.Sequential()\n",
    "    encoder.add(L.InputLayer(img_shape))\n",
    "    encoder.add(L.Conv1D(filters=100, kernel_size=4, padding='same', activation='relu'))\n",
    "    encoder.add(L.Flatten())                  #flatten image to vector\n",
    "    encoder.add(L.Dense(code_size))           #actual encoder\n",
    "    \n",
    "    \n",
    "    decoder = keras.models.Sequential()\n",
    "    decoder.add(L.InputLayer((code_size,)))\n",
    "    decoder.add(L.Dense(np.prod(img_shape)))  #actual decoder, height*width*3 units\n",
    "    decoder.add(L.Reshape(img_shape))         #un-flatten\n",
    "    \n",
    "    return encoder,decoder"
   ]
  },
  {
   "cell_type": "code",
   "execution_count": 14,
   "metadata": {
    "scrolled": true
   },
   "outputs": [],
   "source": [
    "encoder,decoder = build_pca_autoencoder(IMG_SHAPE,code_size=32)\n",
    "\n",
    "inp = L.Input(IMG_SHAPE)\n",
    "code = encoder(inp)\n",
    "reconstruction = decoder(code)\n",
    "\n",
    "autoencoder = keras.models.Model(inp,reconstruction)\n",
    "autoencoder.compile('adamax','mse')"
   ]
  },
  {
   "cell_type": "code",
   "execution_count": 15,
   "metadata": {},
   "outputs": [
    {
     "name": "stdout",
     "output_type": "stream",
     "text": [
      "Train on 4575 samples, validate on 2520 samples\n",
      "Epoch 1/32\n",
      "4575/4575 [==============================] - 1s 323us/step - loss: 0.0389 - val_loss: 0.0252\n",
      "Epoch 2/32\n",
      "4575/4575 [==============================] - 1s 192us/step - loss: 0.0230 - val_loss: 0.0208\n",
      "Epoch 3/32\n",
      "4575/4575 [==============================] - 1s 192us/step - loss: 0.0199 - val_loss: 0.0187\n",
      "Epoch 4/32\n",
      "4575/4575 [==============================] - 1s 196us/step - loss: 0.0181 - val_loss: 0.0174\n",
      "Epoch 5/32\n",
      "4575/4575 [==============================] - 1s 198us/step - loss: 0.0169 - val_loss: 0.0164\n",
      "Epoch 6/32\n",
      "4575/4575 [==============================] - 1s 195us/step - loss: 0.0161 - val_loss: 0.0157\n",
      "Epoch 7/32\n",
      "4575/4575 [==============================] - 1s 198us/step - loss: 0.0155 - val_loss: 0.0153\n",
      "Epoch 8/32\n",
      "4575/4575 [==============================] - 1s 201us/step - loss: 0.0151 - val_loss: 0.0149\n",
      "Epoch 9/32\n",
      "4575/4575 [==============================] - 1s 200us/step - loss: 0.0148 - val_loss: 0.0147\n",
      "Epoch 10/32\n",
      "4575/4575 [==============================] - 1s 194us/step - loss: 0.0147 - val_loss: 0.0146\n",
      "Epoch 11/32\n",
      "4575/4575 [==============================] - 1s 195us/step - loss: 0.0145 - val_loss: 0.0145\n",
      "Epoch 12/32\n",
      "4575/4575 [==============================] - 1s 194us/step - loss: 0.0145 - val_loss: 0.0145\n",
      "Epoch 13/32\n",
      "4575/4575 [==============================] - 1s 200us/step - loss: 0.0144 - val_loss: 0.0144\n",
      "Epoch 14/32\n",
      "4575/4575 [==============================] - 1s 197us/step - loss: 0.0144 - val_loss: 0.0144\n",
      "Epoch 15/32\n",
      "4575/4575 [==============================] - 1s 199us/step - loss: 0.0144 - val_loss: 0.0144\n",
      "Epoch 16/32\n",
      "4575/4575 [==============================] - 1s 199us/step - loss: 0.0143 - val_loss: 0.0143\n",
      "Epoch 17/32\n",
      "4575/4575 [==============================] - 1s 197us/step - loss: 0.0143 - val_loss: 0.0143\n",
      "Epoch 18/32\n",
      "4575/4575 [==============================] - 1s 195us/step - loss: 0.0143 - val_loss: 0.0143\n",
      "Epoch 19/32\n",
      "4575/4575 [==============================] - 1s 196us/step - loss: 0.0143 - val_loss: 0.0143\n",
      "Epoch 20/32\n",
      "4575/4575 [==============================] - 1s 193us/step - loss: 0.0143 - val_loss: 0.0143\n",
      "Epoch 21/32\n",
      "4575/4575 [==============================] - 1s 192us/step - loss: 0.0143 - val_loss: 0.0143\n",
      "Epoch 22/32\n",
      "4575/4575 [==============================] - 1s 194us/step - loss: 0.0143 - val_loss: 0.0143\n",
      "Epoch 23/32\n",
      "4575/4575 [==============================] - 1s 194us/step - loss: 0.0143 - val_loss: 0.0142\n",
      "Epoch 24/32\n",
      "4575/4575 [==============================] - 1s 193us/step - loss: 0.0142 - val_loss: 0.0142\n",
      "Epoch 25/32\n",
      "4575/4575 [==============================] - 1s 195us/step - loss: 0.0142 - val_loss: 0.0142\n",
      "Epoch 26/32\n",
      "4575/4575 [==============================] - 1s 197us/step - loss: 0.0142 - val_loss: 0.0142\n",
      "Epoch 27/32\n",
      "4575/4575 [==============================] - 1s 195us/step - loss: 0.0142 - val_loss: 0.0142\n",
      "Epoch 28/32\n",
      "4575/4575 [==============================] - 1s 195us/step - loss: 0.0142 - val_loss: 0.0142\n",
      "Epoch 29/32\n",
      "4575/4575 [==============================] - 1s 195us/step - loss: 0.0142 - val_loss: 0.0142\n",
      "Epoch 30/32\n",
      "4575/4575 [==============================] - 1s 198us/step - loss: 0.0142 - val_loss: 0.0142\n",
      "Epoch 31/32\n",
      "4575/4575 [==============================] - 1s 200us/step - loss: 0.0142 - val_loss: 0.0142\n",
      "Epoch 32/32\n",
      "4575/4575 [==============================] - 1s 200us/step - loss: 0.0142 - val_loss: 0.0142\n"
     ]
    },
    {
     "data": {
      "text/plain": [
       "<keras.callbacks.History at 0x1067e4550>"
      ]
     },
     "execution_count": 15,
     "metadata": {},
     "output_type": "execute_result"
    }
   ],
   "source": [
    "autoencoder.fit(x=x_train,y=x_train,epochs=32,\n",
    "                 validation_data=[x_test,x_test])"
   ]
  },
  {
   "cell_type": "code",
   "execution_count": 16,
   "metadata": {},
   "outputs": [],
   "source": [
    "images = x_train\n",
    "codes = encoder.predict(images)\n",
    "assert len(codes) == len(images)"
   ]
  },
  {
   "cell_type": "code",
   "execution_count": 17,
   "metadata": {},
   "outputs": [
    {
     "name": "stderr",
     "output_type": "stream",
     "text": [
      "/Users/bedabratachoudhury/anaconda2/lib/python2.7/site-packages/sklearn/neighbors/approximate.py:258: DeprecationWarning: LSHForest has poor performance and has been deprecated in 0.19. It will be removed in version 0.21.\n",
      "  DeprecationWarning)\n"
     ]
    }
   ],
   "source": [
    "from sklearn.neighbors import LSHForest\n",
    "lshf = LSHForest(n_estimators=50).fit(codes)"
   ]
  },
  {
   "cell_type": "code",
   "execution_count": 18,
   "metadata": {},
   "outputs": [],
   "source": [
    "def get_similar(image, n_neighbors=5):\n",
    " \n",
    "\n",
    "    code = encoder.predict(image[None])\n",
    "    \n",
    "    (distances,),(idx,) = lshf.kneighbors(code,n_neighbors=n_neighbors)\n",
    "    \n",
    "    return distances,images[idx]"
   ]
  },
  {
   "cell_type": "code",
   "execution_count": 19,
   "metadata": {},
   "outputs": [],
   "source": [
    "def show_similar(image):\n",
    "    \n",
    "    distances,neighbors = get_similar(image,n_neighbors=11)\n",
    "    \n",
    "    plt.figure(figsize=[8,6])\n",
    "    plt.subplot(3,4,1)\n",
    "    plt.imshow(image)\n",
    "    plt.title(\"Original image\")\n",
    "    \n",
    "    for i in range(11):\n",
    "        plt.subplot(3,4,i+2)\n",
    "        plt.imshow(neighbors[i])\n",
    "        plt.title(\"Dist=%.3f\"%distances[i])\n",
    "    plt.show()"
   ]
  },
  {
   "cell_type": "code",
   "execution_count": 20,
   "metadata": {},
   "outputs": [
    {
     "data": {
      "image/png": "[encoded data removed]",
      "text/plain": [
       "<matplotlib.figure.Figure at 0x1c325d6f50>"
      ]
     },
     "metadata": {
      "needs_background": "light"
     },
     "output_type": "display_data"
    }
   ],
   "source": [
    "show_similar(x_test[6])"
   ]
  },
  {
   "cell_type": "code",
   "execution_count": null,
   "metadata": {},
   "outputs": [],
   "source": []
  }
 ],
 "metadata": {
  "kernelspec": {
   "display_name": "Python 2",
   "language": "python",
   "name": "python2"
  },
  "language_info": {
   "codemirror_mode": {
    "name": "ipython",
    "version": 2
   },
   "file_extension": ".py",
   "mimetype": "text/x-python",
   "name": "python",
   "nbconvert_exporter": "python",
   "pygments_lexer": "ipython2",
   "version": "2.7.15"
  }
 },
 "nbformat": 4,
 "nbformat_minor": 2
}
