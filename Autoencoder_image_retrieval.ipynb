{
 "cells": [
  {
   "cell_type": "code",
   "execution_count": 1,
   "metadata": {},
   "outputs": [
    {
     "name": "stdout",
     "output_type": "stream",
     "text": [
      "tf.estimator package not installed.\n",
      "tf.estimator package not installed.\n"
     ]
    },
    {
     "name": "stderr",
     "output_type": "stream",
     "text": [
      "Using TensorFlow backend.\n"
     ]
    }
   ],
   "source": [
    "import sys\n",
    "import os\n",
    "import cv2\n",
    "import numpy as np\n",
    "import tensorflow\n",
    "import keras\n",
    "import keras, keras.layers as L\n",
    "sys.path.append(\"..\")\n",
    "from keras.datasets import cifar10"
   ]
  },
  {
   "cell_type": "code",
   "execution_count": 2,
   "metadata": {},
   "outputs": [],
   "source": [
    "#Load images\n",
    "def load_data(data_directory):\n",
    "    directories = [d for d in os.listdir(data_directory) \n",
    "                   if os.path.isdir(os.path.join(data_directory, d))]\n",
    "    labels = []\n",
    "    images = []\n",
    "    for d in directories:\n",
    "        label_directory = os.path.join(data_directory, d)\n",
    "        file_names = [os.path.join(label_directory, f) \n",
    "                      for f in os.listdir(label_directory) \n",
    "                      if f.endswith(\".ppm\")]\n",
    "        for f in file_names:\n",
    "            images.append(cv2.imread(f))\n",
    "            labels.append(int(d))\n",
    "    return images, labels\n",
    "ROOT_PATH = \"\"\n",
    "train_data_directory = os.path.join(ROOT_PATH, \"Training\")\n",
    "test_data_directory = os.path.join(ROOT_PATH, \"Testing\")\n",
    "\n",
    "\n",
    "x_train, y_train = load_data(train_data_directory)\n",
    "x_train = np.array(x_train)\n",
    "y_train = np.array(y_train)\n",
    "\n",
    "x_test, y_test = load_data(test_data_directory)\n",
    "x_test = np.array(x_test)\n",
    "y_test = np.array(y_test)\n",
    "#Preprocess\n",
    "x_test = [cv2.resize(image, (28, 28)) for image in x_test]\n",
    "x_train = [cv2.resize(image, (28, 28)) for image in x_train]\n",
    "x_test = np.array(x_test)\n",
    "x_train = np.array(x_train)\n",
    "\n",
    "y_train = np.reshape(y_train,[y_train.shape[0],1])\n",
    "y_test = np.reshape(y_test,[y_test.shape[0],1])\n",
    "\n"
   ]
  },
  {
   "cell_type": "code",
   "execution_count": 3,
   "metadata": {},
   "outputs": [
    {
     "data": {
      "text/plain": [
       "<matplotlib.image.AxesImage at 0xb33257450>"
      ]
     },
     "execution_count": 3,
     "metadata": {},
     "output_type": "execute_result"
    }
   ],
   "source": [
    "import matplotlib.pyplot as plt\n",
    "\n",
    "IMG_SHAPE = x_train[0].shape\n",
    "plt.title('sample images')\n",
    "\n",
    "plt.imshow(x_test[7])\n",
    "\n"
   ]
  },
  {
   "cell_type": "code",
   "execution_count": 6,
   "metadata": {},
   "outputs": [],
   "source": [
    "def build_deep_autoencoder(img_shape,code_size=32):\n",
    "    \"\"\"PCA's deeper brother. See instructions above\"\"\"\n",
    "    H,W,C = img_shape\n",
    "    NFILTERS=16\n",
    "    N1=256\n",
    "\n",
    "    encoder = keras.models.Sequential()\n",
    "    encoder.add(L.InputLayer(img_shape))\n",
    "    encoder.add(L.normalization.BatchNormalization(axis=1))\n",
    "    \n",
    "    #Convolutions\n",
    "    encoder.add(L.Conv2D(filters=NFILTERS*2,kernel_size=3,padding=\"same\"))\n",
    "    encoder.add(L.advanced_activations.LeakyReLU())\n",
    "    encoder.add(L.Conv2D(filters=NFILTERS,kernel_size=3,padding=\"same\"))\n",
    "    encoder.add(L.advanced_activations.LeakyReLU())\n",
    "    encoder.add(L.MaxPooling2D())\n",
    "\n",
    "    \n",
    "    encoder.add(L.Flatten()) \n",
    "    \n",
    "    encoder.add(L.Dense(N1))\n",
    "    encoder.add(L.advanced_activations.LeakyReLU())\n",
    "    encoder.add(L.normalization.BatchNormalization())\n",
    "    encoder.add(L.Dense(N1))\n",
    "    encoder.add(L.advanced_activations.LeakyReLU())\n",
    "    encoder.add(L.normalization.BatchNormalization())    \n",
    "    \n",
    "    encoder.add(L.Dense(code_size))\n",
    "   \n",
    "    \n",
    "    decoder = keras.models.Sequential()\n",
    "    decoder.add(L.InputLayer((code_size,)))\n",
    "    decoder.add(L.normalization.BatchNormalization())\n",
    "    \n",
    "    decoder.add(L.Dense(N1))\n",
    "    decoder.add(L.advanced_activations.LeakyReLU())\n",
    "    decoder.add(L.normalization.BatchNormalization())\n",
    "    decoder.add(L.Dense(N1))\n",
    "    decoder.add(L.advanced_activations.LeakyReLU())\n",
    "    decoder.add(L.normalization.BatchNormalization())   \n",
    "    \n",
    "    \n",
    "    decoder.add(L.Dense(np.prod(img_shape)//4))\n",
    "    decoder.add(L.advanced_activations.LeakyReLU()) \n",
    "    decoder.add(L.normalization.BatchNormalization()) \n",
    "    decoder.add(L.Reshape((H//2,W//2,C)))   \n",
    "    decoder.add(L.UpSampling2D())\n",
    "\n",
    "    decoder.add(L.Deconv2D(filters=NFILTERS,kernel_size=3,padding=\"same\"))\n",
    "    decoder.add(L.advanced_activations.LeakyReLU())\n",
    "    decoder.add(L.Deconv2D(filters=NFILTERS*2,kernel_size=3,padding=\"same\")) \n",
    "    \n",
    "    encoder.add(L.advanced_activations.LeakyReLU())\n",
    "    decoder.add(L.Deconv2D(filters=3,kernel_size=3,padding=\"same\"))\n",
    "\n",
    "    \n",
    "    return encoder,decoder"
   ]
  },
  {
   "cell_type": "code",
   "execution_count": 14,
   "metadata": {
    "scrolled": true
   },
   "outputs": [],
   "source": [
    "encoder,decoder = build_deep_autoencoder(IMG_SHAPE,code_size=32)"
   ]
  },
  {
   "cell_type": "code",
   "execution_count": 15,
   "metadata": {
    "scrolled": true
   },
   "outputs": [
    {
     "name": "stdout",
     "output_type": "stream",
     "text": [
      "_________________________________________________________________\n",
      "Layer (type)                 Output Shape              Param #   \n",
      "=================================================================\n",
      "batch_normalization_8 (Batch (None, 28, 28, 3)         112       \n",
      "_________________________________________________________________\n",
      "conv2d_3 (Conv2D)            (None, 28, 28, 32)        896       \n",
      "_________________________________________________________________\n",
      "leaky_re_lu_10 (LeakyReLU)   (None, 28, 28, 32)        0         \n",
      "_________________________________________________________________\n",
      "conv2d_4 (Conv2D)            (None, 28, 28, 16)        4624      \n",
      "_________________________________________________________________\n",
      "leaky_re_lu_11 (LeakyReLU)   (None, 28, 28, 16)        0         \n",
      "_________________________________________________________________\n",
      "max_pooling2d_2 (MaxPooling2 (None, 14, 14, 16)        0         \n",
      "_________________________________________________________________\n",
      "flatten_2 (Flatten)          (None, 3136)              0         \n",
      "_________________________________________________________________\n",
      "dense_7 (Dense)              (None, 256)               803072    \n",
      "_________________________________________________________________\n",
      "leaky_re_lu_12 (LeakyReLU)   (None, 256)               0         \n",
      "_________________________________________________________________\n",
      "batch_normalization_9 (Batch (None, 256)               1024      \n",
      "_________________________________________________________________\n",
      "dense_8 (Dense)              (None, 256)               65792     \n",
      "_________________________________________________________________\n",
      "leaky_re_lu_13 (LeakyReLU)   (None, 256)               0         \n",
      "_________________________________________________________________\n",
      "batch_normalization_10 (Batc (None, 256)               1024      \n",
      "_________________________________________________________________\n",
      "dense_9 (Dense)              (None, 32)                8224      \n",
      "_________________________________________________________________\n",
      "leaky_re_lu_18 (LeakyReLU)   (None, 32)                0         \n",
      "=================================================================\n",
      "Total params: 884,768\n",
      "Trainable params: 883,688\n",
      "Non-trainable params: 1,080\n",
      "_________________________________________________________________\n"
     ]
    }
   ],
   "source": [
    "#autoencoder training\n",
    "#Can also use this for image segmentation. need to change y in autoencoder.fit(x=..., y=...,....). y will take as\n",
    "#argument manually segmented images. Also could work for denoising.\n",
    "inp = L.Input(IMG_SHAPE)\n",
    "code = encoder(inp)\n",
    "reconstruction = decoder(code)\n",
    "\n",
    "autoencoder = keras.models.Model(inp,reconstruction)\n",
    "\n",
    "encoder.summary()"
   ]
  },
  {
   "cell_type": "code",
   "execution_count": 20,
   "metadata": {
    "scrolled": true
   },
   "outputs": [
    {
     "name": "stdout",
     "output_type": "stream",
     "text": [
      "Train on 4575 samples, validate on 2520 samples\n",
      "Epoch 1/50\n",
      "4575/4575 [==============================] - 40s 9ms/step - loss: 1698.5020 - val_loss: 1911.2115\n",
      "Epoch 2/50\n",
      "4575/4575 [==============================] - 37s 8ms/step - loss: 1649.1530 - val_loss: 1423.7958\n",
      "Epoch 3/50\n",
      "4575/4575 [==============================] - 37s 8ms/step - loss: 1596.0968 - val_loss: 1383.2622\n",
      "Epoch 4/50\n",
      "4575/4575 [==============================] - 36s 8ms/step - loss: 1536.2630 - val_loss: 1374.1314\n",
      "Epoch 5/50\n",
      "4575/4575 [==============================] - 45s 10ms/step - loss: 1511.1626 - val_loss: 1495.0632\n",
      "Epoch 6/50\n",
      "4575/4575 [==============================] - 42s 9ms/step - loss: 1477.2428 - val_loss: 1302.2197\n",
      "Epoch 7/50\n",
      "4575/4575 [==============================] - 38s 8ms/step - loss: 1426.2933 - val_loss: 1470.7579\n",
      "Epoch 8/50\n",
      "4575/4575 [==============================] - 36s 8ms/step - loss: 1394.3774 - val_loss: 1252.4440\n",
      "Epoch 9/50\n",
      "4575/4575 [==============================] - 36s 8ms/step - loss: 1388.3755 - val_loss: 1224.8935\n",
      "Epoch 10/50\n",
      "4575/4575 [==============================] - 36s 8ms/step - loss: 1358.2731 - val_loss: 1244.3983\n",
      "Epoch 11/50\n",
      "4575/4575 [==============================] - 36s 8ms/step - loss: 1346.9674 - val_loss: 1201.7257\n",
      "Epoch 12/50\n",
      "4575/4575 [==============================] - 36s 8ms/step - loss: 1333.7310 - val_loss: 1196.3835\n",
      "Epoch 13/50\n",
      "4575/4575 [==============================] - 38s 8ms/step - loss: 1311.2750 - val_loss: 1179.0420\n",
      "Epoch 14/50\n",
      "4575/4575 [==============================] - 39s 8ms/step - loss: 1297.7422 - val_loss: 1154.5434\n",
      "Epoch 15/50\n",
      "4575/4575 [==============================] - 40s 9ms/step - loss: 1267.5251 - val_loss: 1139.1077\n",
      "Epoch 16/50\n",
      "4575/4575 [==============================] - 38s 8ms/step - loss: 1265.9424 - val_loss: 1142.1304\n",
      "Epoch 17/50\n",
      "4575/4575 [==============================] - 37s 8ms/step - loss: 1239.3083 - val_loss: 1137.5781\n",
      "Epoch 18/50\n",
      "4575/4575 [==============================] - 37s 8ms/step - loss: 1255.8338 - val_loss: 1128.0953\n",
      "Epoch 19/50\n",
      "4575/4575 [==============================] - 40s 9ms/step - loss: 1226.7585 - val_loss: 1116.8373\n",
      "Epoch 20/50\n",
      "4575/4575 [==============================] - 39s 9ms/step - loss: 1229.4841 - val_loss: 1121.6944\n",
      "Epoch 21/50\n",
      "4575/4575 [==============================] - 38s 8ms/step - loss: 1191.0386 - val_loss: 1089.5071\n",
      "Epoch 22/50\n",
      "4575/4575 [==============================] - 37s 8ms/step - loss: 1186.9656 - val_loss: 1093.0701\n",
      "Epoch 23/50\n",
      "4575/4575 [==============================] - 42s 9ms/step - loss: 1187.0000 - val_loss: 1105.3361\n",
      "Epoch 24/50\n",
      "4575/4575 [==============================] - 41s 9ms/step - loss: 1168.6589 - val_loss: 1140.3826\n",
      "Epoch 25/50\n",
      "4575/4575 [==============================] - 40s 9ms/step - loss: 1182.5630 - val_loss: 1061.6568\n",
      "Epoch 26/50\n",
      "4575/4575 [==============================] - 41s 9ms/step - loss: 1145.1382 - val_loss: 1153.9313\n",
      "Epoch 27/50\n",
      "4575/4575 [==============================] - 36s 8ms/step - loss: 1142.8212 - val_loss: 1051.0867\n",
      "Epoch 28/50\n",
      "4575/4575 [==============================] - 37s 8ms/step - loss: 1143.5855 - val_loss: 1048.6433\n",
      "Epoch 29/50\n",
      "4575/4575 [==============================] - 35s 8ms/step - loss: 1133.6634 - val_loss: 1033.7384\n",
      "Epoch 30/50\n",
      "4575/4575 [==============================] - 50s 11ms/step - loss: 1127.7008 - val_loss: 1031.2307\n",
      "Epoch 31/50\n",
      "4575/4575 [==============================] - 40s 9ms/step - loss: 1138.9579 - val_loss: 1110.9194\n",
      "Epoch 32/50\n",
      "4575/4575 [==============================] - 41s 9ms/step - loss: 1123.3454 - val_loss: 1041.2452\n",
      "Epoch 33/50\n",
      "4575/4575 [==============================] - 38s 8ms/step - loss: 1125.4145 - val_loss: 1036.0015\n",
      "Epoch 34/50\n",
      "4575/4575 [==============================] - 37s 8ms/step - loss: 1112.8938 - val_loss: 1016.6632\n",
      "Epoch 35/50\n",
      "4575/4575 [==============================] - 37s 8ms/step - loss: 1100.2226 - val_loss: 1022.6389\n",
      "Epoch 36/50\n",
      "4575/4575 [==============================] - 41s 9ms/step - loss: 1097.4678 - val_loss: 1024.0462\n",
      "Epoch 37/50\n",
      "4575/4575 [==============================] - 40s 9ms/step - loss: 1091.1599 - val_loss: 1011.6381\n",
      "Epoch 38/50\n",
      "4575/4575 [==============================] - 37s 8ms/step - loss: 1093.3040 - val_loss: 1059.3081\n",
      "Epoch 39/50\n",
      "4575/4575 [==============================] - 37s 8ms/step - loss: 1076.9150 - val_loss: 1033.6014\n",
      "Epoch 40/50\n",
      "4575/4575 [==============================] - 40s 9ms/step - loss: 1074.2767 - val_loss: 1039.6958\n",
      "Epoch 41/50\n",
      "4575/4575 [==============================] - 39s 9ms/step - loss: 1084.4009 - val_loss: 997.7573\n",
      "Epoch 42/50\n",
      "4575/4575 [==============================] - 36s 8ms/step - loss: 1074.6048 - val_loss: 1006.1167\n",
      "Epoch 43/50\n",
      "4575/4575 [==============================] - 36s 8ms/step - loss: 1063.5936 - val_loss: 999.2429\n",
      "Epoch 44/50\n",
      "4575/4575 [==============================] - 36s 8ms/step - loss: 1052.6528 - val_loss: 1013.5514\n",
      "Epoch 45/50\n",
      "4575/4575 [==============================] - 36s 8ms/step - loss: 1052.4203 - val_loss: 996.4041\n",
      "Epoch 46/50\n",
      "4575/4575 [==============================] - 36s 8ms/step - loss: 1057.1703 - val_loss: 995.0357\n",
      "Epoch 47/50\n",
      "4575/4575 [==============================] - 39s 8ms/step - loss: 1045.8064 - val_loss: 1023.8105\n",
      "Epoch 48/50\n",
      "4575/4575 [==============================] - 43s 9ms/step - loss: 1039.8351 - val_loss: 1027.4166\n",
      "Epoch 49/50\n",
      "4575/4575 [==============================] - 39s 8ms/step - loss: 1033.9972 - val_loss: 997.7665\n",
      "Epoch 50/50\n",
      "4575/4575 [==============================] - 36s 8ms/step - loss: 1030.5120 - val_loss: 1031.6333\n"
     ]
    },
    {
     "data": {
      "text/plain": [
       "<keras.callbacks.History at 0xb3b76f110>"
      ]
     },
     "execution_count": 20,
     "metadata": {},
     "output_type": "execute_result"
    }
   ],
   "source": [
    "autoencoder.compile('nadam','mse')\n",
    "autoencoder.fit(x=x_train,y=x_train,epochs=50,\n",
    "                    validation_data=[x_test,x_test])"
   ]
  },
  {
   "cell_type": "code",
   "execution_count": 31,
   "metadata": {},
   "outputs": [
    {
     "data": {
      "text/plain": [
       "<matplotlib.image.AxesImage at 0xb45f12d10>"
      ]
     },
     "execution_count": 31,
     "metadata": {},
     "output_type": "execute_result"
    },
    {
     "data": {
      "image/png": "[encoded data removed]",
      "text/plain": [
       "<matplotlib.figure.Figure at 0xb3d265b10>"
      ]
     },
     "metadata": {
      "needs_background": "light"
     },
     "output_type": "display_data"
    }
   ],
   "source": [
    "images = x_train\n",
    "codes = encoder.predict(images)\n",
    "reconstructed = decoder.predict(codes)\n",
    "plt.imshow(reconstructed[6])"
   ]
  },
  {
   "cell_type": "code",
   "execution_count": null,
   "metadata": {},
   "outputs": [],
   "source": []
  },
  {
   "cell_type": "code",
   "execution_count": 24,
   "metadata": {},
   "outputs": [
    {
     "name": "stderr",
     "output_type": "stream",
     "text": [
      "/Users/bedabratachoudhury/anaconda2/lib/python2.7/site-packages/sklearn/neighbors/approximate.py:258: DeprecationWarning: LSHForest has poor performance and has been deprecated in 0.19. It will be removed in version 0.21.\n",
      "  DeprecationWarning)\n"
     ]
    }
   ],
   "source": [
    "from sklearn.neighbors import LSHForest\n",
    "lshf = LSHForest(n_estimators=50).fit(codes)\n",
    "\n",
    "\n",
    "def get_similar(image, n_neighbors=5):\n",
    "    assert image.ndim==3,\"image must be [batch,height,width,3]\"\n",
    "\n",
    "    code = encoder.predict(image[None])\n",
    "    \n",
    "    (distances,),(idx,) = lshf.kneighbors(code,n_neighbors=n_neighbors)\n",
    "    \n",
    "    return distances,images[idx]"
   ]
  },
  {
   "cell_type": "code",
   "execution_count": 25,
   "metadata": {},
   "outputs": [],
   "source": [
    "def show_similar(image):\n",
    "    \n",
    "    distances,neighbors = get_similar(image,n_neighbors=11)\n",
    "    \n",
    "    plt.figure(figsize=[8,6])\n",
    "    plt.subplot(3,4,1)\n",
    "    plt.imshow(image)\n",
    "    plt.title(\"Original image\")\n",
    "    \n",
    "    for i in range(11):\n",
    "        plt.subplot(3,4,i+2)\n",
    "        plt.imshow(neighbors[i])\n",
    "        plt.title(\"Dist=%.3f\"%distances[i])\n",
    "    plt.show()"
   ]
  },
  {
   "cell_type": "code",
   "execution_count": 28,
   "metadata": {
    "scrolled": true
   },
   "outputs": [
    {
     "data": {
      "image/png": "[encoded data removed]",
      "text/plain": [
       "<matplotlib.figure.Figure at 0xb3efc9350>"
      ]
     },
     "metadata": {
      "needs_background": "light"
     },
     "output_type": "display_data"
    }
   ],
   "source": [
    "import matplotlib.pyplot as plt\n",
    "show_similar(x_test[100])\n",
    "plt.show()"
   ]
  },
  {
   "cell_type": "code",
   "execution_count": null,
   "metadata": {},
   "outputs": [],
   "source": []
  },
  {
   "cell_type": "code",
   "execution_count": null,
   "metadata": {},
   "outputs": [],
   "source": []
  },
  {
   "cell_type": "code",
   "execution_count": null,
   "metadata": {},
   "outputs": [],
   "source": []
  }
 ],
 "metadata": {
  "kernelspec": {
   "display_name": "Python 2",
   "language": "python",
   "name": "python2"
  },
  "language_info": {
   "codemirror_mode": {
    "name": "ipython",
    "version": 2
   },
   "file_extension": ".py",
   "mimetype": "text/x-python",
   "name": "python",
   "nbconvert_exporter": "python",
   "pygments_lexer": "ipython2",
   "version": "2.7.15"
  }
 },
 "nbformat": 4,
 "nbformat_minor": 2
}
