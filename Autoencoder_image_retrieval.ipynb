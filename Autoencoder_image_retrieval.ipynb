{
 "cells": [
  {
   "cell_type": "code",
   "execution_count": 10,
   "metadata": {},
   "outputs": [],
   "source": [
    "import sys\n",
    "import os\n",
    "import cv2\n",
    "import numpy as np\n",
    "import tensorflow\n",
    "import keras\n",
    "import keras, keras.layers as L\n",
    "sys.path.append(\"..\")\n",
    "from keras.datasets import cifar10"
   ]
  },
  {
   "cell_type": "code",
   "execution_count": 11,
   "metadata": {},
   "outputs": [],
   "source": [
    "#Load images\n",
    "def load_data(data_directory):\n",
    "    directories = [d for d in os.listdir(data_directory) \n",
    "                   if os.path.isdir(os.path.join(data_directory, d))]\n",
    "    labels = []\n",
    "    images = []\n",
    "    for d in directories:\n",
    "        label_directory = os.path.join(data_directory, d)\n",
    "        file_names = [os.path.join(label_directory, f) \n",
    "                      for f in os.listdir(label_directory) \n",
    "                      if f.endswith(\".ppm\")]\n",
    "        for f in file_names:\n",
    "            images.append(cv2.imread(f))\n",
    "            labels.append(int(d))\n",
    "    return images, labels\n",
    "ROOT_PATH = \"\"\n",
    "train_data_directory = os.path.join(ROOT_PATH, \"Training\")\n",
    "test_data_directory = os.path.join(ROOT_PATH, \"Testing\")\n",
    "\n",
    "\n",
    "x_train, y_train = load_data(train_data_directory)\n",
    "x_train = np.array(x_train)\n",
    "y_train = np.array(y_train)\n",
    "\n",
    "x_test, y_test = load_data(test_data_directory)\n",
    "x_test = np.array(x_test)\n",
    "y_test = np.array(y_test)\n",
    "#Preprocess\n",
    "x_test = [cv2.resize(image, (28, 28)) for image in x_test]\n",
    "x_train = [cv2.resize(image, (28, 28)) for image in x_train]\n",
    "x_test = np.array(x_test)\n",
    "x_train = np.array(x_train)\n",
    "\n",
    "y_train = np.reshape(y_train,[y_train.shape[0],1])\n",
    "y_test = np.reshape(y_test,[y_test.shape[0],1])\n",
    "\n"
   ]
  },
  {
   "cell_type": "code",
   "execution_count": 12,
   "metadata": {},
   "outputs": [
    {
     "data": {
      "text/plain": [
       "<matplotlib.image.AxesImage at 0xb30c44d90>"
      ]
     },
     "execution_count": 12,
     "metadata": {},
     "output_type": "execute_result"
    },
    {
     "data": {
      "image/png": "[encoded data removed]",
      "text/plain": [
       "<matplotlib.figure.Figure at 0xb2bc7d950>"
      ]
     },
     "metadata": {
      "needs_background": "light"
     },
     "output_type": "display_data"
    }
   ],
   "source": [
    "import matplotlib.pyplot as plt\n",
    "\n",
    "IMG_SHAPE = x_train[0].shape\n",
    "plt.title('sample images')\n",
    "\n",
    "plt.imshow(x_test[7])\n",
    "\n"
   ]
  },
  {
   "cell_type": "code",
   "execution_count": 13,
   "metadata": {},
   "outputs": [],
   "source": [
    "def build_deep_autoencoder(img_shape,code_size=32):\n",
    "    \"\"\"PCA's deeper brother. See instructions above\"\"\"\n",
    "    H,W,C = img_shape\n",
    "    NFILTERS=16\n",
    "    N1=256\n",
    "\n",
    "    encoder = keras.models.Sequential()\n",
    "    encoder.add(L.InputLayer(img_shape))\n",
    "    encoder.add(L.normalization.BatchNormalization(axis=1))\n",
    "    \n",
    "    #Convolutions\n",
    "    encoder.add(L.Conv2D(filters=NFILTERS*2,kernel_size=3,padding=\"same\"))\n",
    "    encoder.add(L.advanced_activations.LeakyReLU())\n",
    "    encoder.add(L.Conv2D(filters=NFILTERS,kernel_size=3,padding=\"same\"))\n",
    "    encoder.add(L.advanced_activations.LeakyReLU())\n",
    "    encoder.add(L.MaxPooling2D())\n",
    "\n",
    "    \n",
    "    encoder.add(L.Flatten()) \n",
    "    \n",
    "    encoder.add(L.Dense(N1))\n",
    "    encoder.add(L.advanced_activations.LeakyReLU())\n",
    "    encoder.add(L.normalization.BatchNormalization())\n",
    "    encoder.add(L.Dense(N1))\n",
    "    encoder.add(L.advanced_activations.LeakyReLU())\n",
    "    encoder.add(L.normalization.BatchNormalization())    \n",
    "    \n",
    "    encoder.add(L.Dense(code_size))\n",
    "   \n",
    "    \n",
    "    decoder = keras.models.Sequential()\n",
    "    decoder.add(L.InputLayer((code_size,)))\n",
    "    decoder.add(L.normalization.BatchNormalization())\n",
    "    \n",
    "    decoder.add(L.Dense(N1))\n",
    "    decoder.add(L.advanced_activations.LeakyReLU())\n",
    "    decoder.add(L.normalization.BatchNormalization())\n",
    "    decoder.add(L.Dense(N1))\n",
    "    decoder.add(L.advanced_activations.LeakyReLU())\n",
    "    decoder.add(L.normalization.BatchNormalization())   \n",
    "    \n",
    "    \n",
    "    decoder.add(L.Dense(np.prod(img_shape)//4))\n",
    "    decoder.add(L.advanced_activations.LeakyReLU()) \n",
    "    decoder.add(L.normalization.BatchNormalization()) \n",
    "    decoder.add(L.Reshape((H//2,W//2,C)))   \n",
    "    decoder.add(L.UpSampling2D())\n",
    "\n",
    "    decoder.add(L.Deconv2D(filters=NFILTERS,kernel_size=3,padding=\"same\"))\n",
    "    decoder.add(L.advanced_activations.LeakyReLU())\n",
    "    decoder.add(L.Deconv2D(filters=NFILTERS*2,kernel_size=3,padding=\"same\")) \n",
    "    \n",
    "    encoder.add(L.advanced_activations.LeakyReLU())\n",
    "    decoder.add(L.Deconv2D(filters=3,kernel_size=3,padding=\"same\"))\n",
    "\n",
    "    \n",
    "    return encoder,decoder"
   ]
  },
  {
   "cell_type": "code",
   "execution_count": 14,
   "metadata": {
    "scrolled": true
   },
   "outputs": [],
   "source": [
    "encoder,decoder = build_deep_autoencoder(IMG_SHAPE,code_size=512)"
   ]
  },
  {
   "cell_type": "code",
   "execution_count": 15,
   "metadata": {
    "scrolled": true
   },
   "outputs": [
    {
     "name": "stdout",
     "output_type": "stream",
     "text": [
      "_________________________________________________________________\n",
      "Layer (type)                 Output Shape              Param #   \n",
      "=================================================================\n",
      "batch_normalization_8 (Batch (None, 28, 28, 3)         112       \n",
      "_________________________________________________________________\n",
      "conv2d_3 (Conv2D)            (None, 28, 28, 32)        896       \n",
      "_________________________________________________________________\n",
      "leaky_re_lu_10 (LeakyReLU)   (None, 28, 28, 32)        0         \n",
      "_________________________________________________________________\n",
      "conv2d_4 (Conv2D)            (None, 28, 28, 16)        4624      \n",
      "_________________________________________________________________\n",
      "leaky_re_lu_11 (LeakyReLU)   (None, 28, 28, 16)        0         \n",
      "_________________________________________________________________\n",
      "max_pooling2d_2 (MaxPooling2 (None, 14, 14, 16)        0         \n",
      "_________________________________________________________________\n",
      "flatten_2 (Flatten)          (None, 3136)              0         \n",
      "_________________________________________________________________\n",
      "dense_7 (Dense)              (None, 256)               803072    \n",
      "_________________________________________________________________\n",
      "leaky_re_lu_12 (LeakyReLU)   (None, 256)               0         \n",
      "_________________________________________________________________\n",
      "batch_normalization_9 (Batch (None, 256)               1024      \n",
      "_________________________________________________________________\n",
      "dense_8 (Dense)              (None, 256)               65792     \n",
      "_________________________________________________________________\n",
      "leaky_re_lu_13 (LeakyReLU)   (None, 256)               0         \n",
      "_________________________________________________________________\n",
      "batch_normalization_10 (Batc (None, 256)               1024      \n",
      "_________________________________________________________________\n",
      "dense_9 (Dense)              (None, 512)               131584    \n",
      "_________________________________________________________________\n",
      "leaky_re_lu_18 (LeakyReLU)   (None, 512)               0         \n",
      "=================================================================\n",
      "Total params: 1,008,128\n",
      "Trainable params: 1,007,048\n",
      "Non-trainable params: 1,080\n",
      "_________________________________________________________________\n"
     ]
    }
   ],
   "source": [
    "#autoencoder training\n",
    "\n",
    "inp = L.Input(IMG_SHAPE)\n",
    "code = encoder(inp)\n",
    "reconstruction = decoder(code)\n",
    "\n",
    "autoencoder = keras.models.Model(inp,reconstruction)\n",
    "\n",
    "encoder.summary()"
   ]
  },
  {
   "cell_type": "code",
   "execution_count": 16,
   "metadata": {
    "scrolled": true
   },
   "outputs": [
    {
     "name": "stdout",
     "output_type": "stream",
     "text": [
      "Train on 4575 samples, validate on 2520 samples\n",
      "Epoch 1/100\n",
      "4575/4575 [==============================] - 41s 9ms/step - loss: 4362.9183 - val_loss: 4265.7924\n",
      "Epoch 2/100\n",
      "4575/4575 [==============================] - 46s 10ms/step - loss: 2531.8706 - val_loss: 2869.5867\n",
      "Epoch 3/100\n",
      "4575/4575 [==============================] - 45s 10ms/step - loss: 2264.6319 - val_loss: 1959.7531\n",
      "Epoch 4/100\n",
      "4575/4575 [==============================] - 42s 9ms/step - loss: 1932.3668 - val_loss: 2379.8999\n",
      "Epoch 5/100\n",
      "4575/4575 [==============================] - 44s 10ms/step - loss: 1801.5853 - val_loss: 1731.2649\n",
      "Epoch 6/100\n",
      "4575/4575 [==============================] - 49s 11ms/step - loss: 1698.6783 - val_loss: 1646.3946\n",
      "Epoch 7/100\n",
      "4575/4575 [==============================] - 43s 9ms/step - loss: 1655.5232 - val_loss: 2177.5521\n",
      "Epoch 8/100\n",
      "4575/4575 [==============================] - 51s 11ms/step - loss: 1596.7693 - val_loss: 1517.1859\n",
      "Epoch 9/100\n",
      "4575/4575 [==============================] - 41s 9ms/step - loss: 1536.1523 - val_loss: 1325.4553\n",
      "Epoch 10/100\n",
      "4575/4575 [==============================] - 41s 9ms/step - loss: 1490.2203 - val_loss: 1295.0060\n",
      "Epoch 11/100\n",
      "4575/4575 [==============================] - 41s 9ms/step - loss: 1472.7771 - val_loss: 1428.2638\n",
      "Epoch 12/100\n",
      "4575/4575 [==============================] - 39s 8ms/step - loss: 1417.8137 - val_loss: 1278.3787\n",
      "Epoch 13/100\n",
      "4575/4575 [==============================] - 37s 8ms/step - loss: 1427.9984 - val_loss: 1395.2669\n",
      "Epoch 14/100\n",
      "4575/4575 [==============================] - 39s 8ms/step - loss: 1382.8490 - val_loss: 1269.0404\n",
      "Epoch 15/100\n",
      "4575/4575 [==============================] - 39s 9ms/step - loss: 1338.7250 - val_loss: 1165.9932\n",
      "Epoch 16/100\n",
      "4575/4575 [==============================] - 40s 9ms/step - loss: 1321.1529 - val_loss: 1158.9055\n",
      "Epoch 17/100\n",
      "4575/4575 [==============================] - 46s 10ms/step - loss: 1294.3828 - val_loss: 1134.6616\n",
      "Epoch 18/100\n",
      "4575/4575 [==============================] - 42s 9ms/step - loss: 1293.8628 - val_loss: 1255.9570\n",
      "Epoch 19/100\n",
      "4575/4575 [==============================] - 38s 8ms/step - loss: 1279.9071 - val_loss: 1129.3396\n",
      "Epoch 20/100\n",
      "4575/4575 [==============================] - 36s 8ms/step - loss: 1233.9700 - val_loss: 1107.3386\n",
      "Epoch 21/100\n",
      "4575/4575 [==============================] - 35s 8ms/step - loss: 1224.0575 - val_loss: 1117.2380\n",
      "Epoch 22/100\n",
      "4575/4575 [==============================] - 36s 8ms/step - loss: 1205.6720 - val_loss: 1071.4380\n",
      "Epoch 23/100\n",
      "4575/4575 [==============================] - 41s 9ms/step - loss: 1181.4393 - val_loss: 1058.8236\n",
      "Epoch 24/100\n",
      "4575/4575 [==============================] - 44s 10ms/step - loss: 1180.6000 - val_loss: 1082.8093\n",
      "Epoch 25/100\n",
      "4575/4575 [==============================] - 59s 13ms/step - loss: 1183.8028 - val_loss: 1060.9157\n",
      "Epoch 26/100\n",
      "4575/4575 [==============================] - 51s 11ms/step - loss: 1172.2461 - val_loss: 1295.6178\n",
      "Epoch 27/100\n",
      "4575/4575 [==============================] - 39s 9ms/step - loss: 1149.0327 - val_loss: 1037.0555\n",
      "Epoch 28/100\n",
      "4575/4575 [==============================] - 38s 8ms/step - loss: 1141.8327 - val_loss: 1050.0566\n",
      "Epoch 29/100\n",
      "4575/4575 [==============================] - 44s 10ms/step - loss: 1129.4457 - val_loss: 1054.4801\n",
      "Epoch 30/100\n",
      "4575/4575 [==============================] - 47s 10ms/step - loss: 1139.1013 - val_loss: 1062.6582\n",
      "Epoch 31/100\n",
      "4575/4575 [==============================] - 46s 10ms/step - loss: 1120.0391 - val_loss: 1034.2906\n",
      "Epoch 32/100\n",
      "4575/4575 [==============================] - 44s 10ms/step - loss: 1096.8933 - val_loss: 979.1540\n",
      "Epoch 33/100\n",
      "4575/4575 [==============================] - 44s 10ms/step - loss: 1099.4250 - val_loss: 1005.3822\n",
      "Epoch 34/100\n",
      "4575/4575 [==============================] - 43s 9ms/step - loss: 1074.7154 - val_loss: 987.6044\n",
      "Epoch 35/100\n",
      "4575/4575 [==============================] - 40s 9ms/step - loss: 1072.0548 - val_loss: 961.9333\n",
      "Epoch 36/100\n",
      "4575/4575 [==============================] - 44s 10ms/step - loss: 1071.3227 - val_loss: 956.6045\n",
      "Epoch 37/100\n",
      "4575/4575 [==============================] - 41s 9ms/step - loss: 1071.9031 - val_loss: 952.4793\n",
      "Epoch 38/100\n",
      "4575/4575 [==============================] - 45s 10ms/step - loss: 1060.8350 - val_loss: 981.9076\n",
      "Epoch 39/100\n",
      "4575/4575 [==============================] - 44s 10ms/step - loss: 1051.0276 - val_loss: 1057.0784\n",
      "Epoch 40/100\n",
      "4575/4575 [==============================] - 44s 10ms/step - loss: 1063.2123 - val_loss: 929.0549\n",
      "Epoch 41/100\n",
      "4575/4575 [==============================] - 42s 9ms/step - loss: 1026.8016 - val_loss: 955.4234\n",
      "Epoch 42/100\n",
      "4575/4575 [==============================] - 37s 8ms/step - loss: 1028.0257 - val_loss: 951.8156\n",
      "Epoch 43/100\n",
      "4575/4575 [==============================] - 42s 9ms/step - loss: 1023.8378 - val_loss: 933.3766\n",
      "Epoch 44/100\n",
      "4575/4575 [==============================] - 42s 9ms/step - loss: 997.8608 - val_loss: 949.3535\n",
      "Epoch 45/100\n",
      "4575/4575 [==============================] - 42s 9ms/step - loss: 1002.1704 - val_loss: 946.0849\n",
      "Epoch 46/100\n",
      "4575/4575 [==============================] - 46s 10ms/step - loss: 1003.5832 - val_loss: 932.3059\n",
      "Epoch 47/100\n",
      "4575/4575 [==============================] - 39s 9ms/step - loss: 995.0337 - val_loss: 934.3738\n",
      "Epoch 48/100\n",
      "4575/4575 [==============================] - 40s 9ms/step - loss: 993.0429 - val_loss: 897.8449\n",
      "Epoch 49/100\n",
      "4575/4575 [==============================] - 45s 10ms/step - loss: 975.6031 - val_loss: 922.4324\n",
      "Epoch 50/100\n",
      "4575/4575 [==============================] - 47s 10ms/step - loss: 988.3411 - val_loss: 915.3181\n",
      "Epoch 51/100\n",
      "4575/4575 [==============================] - 43s 9ms/step - loss: 957.1581 - val_loss: 884.7497\n",
      "Epoch 52/100\n",
      "4575/4575 [==============================] - 40s 9ms/step - loss: 963.8661 - val_loss: 874.4858\n",
      "Epoch 53/100\n",
      "4575/4575 [==============================] - 43s 9ms/step - loss: 961.2120 - val_loss: 876.0328\n",
      "Epoch 54/100\n",
      "4575/4575 [==============================] - 41s 9ms/step - loss: 966.6958 - val_loss: 875.2254\n",
      "Epoch 55/100\n",
      "4575/4575 [==============================] - 39s 9ms/step - loss: 955.2358 - val_loss: 904.6457\n",
      "Epoch 56/100\n",
      "4575/4575 [==============================] - 40s 9ms/step - loss: 953.6073 - val_loss: 876.5461\n",
      "Epoch 57/100\n",
      "4575/4575 [==============================] - 39s 8ms/step - loss: 938.9266 - val_loss: 874.7455\n",
      "Epoch 58/100\n",
      "4575/4575 [==============================] - 38s 8ms/step - loss: 950.5160 - val_loss: 890.3283\n",
      "Epoch 59/100\n",
      "4575/4575 [==============================] - 35s 8ms/step - loss: 937.7472 - val_loss: 846.5563\n",
      "Epoch 60/100\n",
      "4575/4575 [==============================] - 35s 8ms/step - loss: 936.5142 - val_loss: 862.1656\n",
      "Epoch 61/100\n",
      "4575/4575 [==============================] - 35s 8ms/step - loss: 932.0539 - val_loss: 855.7771\n",
      "Epoch 62/100\n",
      "4575/4575 [==============================] - 41s 9ms/step - loss: 915.8123 - val_loss: 858.8355\n",
      "Epoch 63/100\n",
      "4575/4575 [==============================] - 42s 9ms/step - loss: 919.6163 - val_loss: 839.8550\n",
      "Epoch 64/100\n",
      "4575/4575 [==============================] - 42s 9ms/step - loss: 923.5356 - val_loss: 878.5233\n",
      "Epoch 65/100\n",
      "4575/4575 [==============================] - 43s 9ms/step - loss: 923.1625 - val_loss: 880.9243\n",
      "Epoch 66/100\n",
      "4575/4575 [==============================] - 35s 8ms/step - loss: 920.9943 - val_loss: 849.5265\n",
      "Epoch 67/100\n",
      "4575/4575 [==============================] - 36s 8ms/step - loss: 908.4188 - val_loss: 945.3894\n",
      "Epoch 68/100\n",
      "4575/4575 [==============================] - 35s 8ms/step - loss: 903.4241 - val_loss: 845.7104\n",
      "Epoch 69/100\n",
      "4575/4575 [==============================] - 35s 8ms/step - loss: 898.0245 - val_loss: 888.5256\n",
      "Epoch 70/100\n",
      "4575/4575 [==============================] - 38s 8ms/step - loss: 892.8540 - val_loss: 853.6977\n",
      "Epoch 71/100\n",
      "4575/4575 [==============================] - 34s 8ms/step - loss: 888.6276 - val_loss: 861.0669\n",
      "Epoch 72/100\n",
      "4575/4575 [==============================] - 35s 8ms/step - loss: 879.1051 - val_loss: 845.2243\n",
      "Epoch 73/100\n",
      "4575/4575 [==============================] - 34s 8ms/step - loss: 891.4157 - val_loss: 818.4380\n",
      "Epoch 74/100\n",
      "4575/4575 [==============================] - 36s 8ms/step - loss: 885.0506 - val_loss: 825.4467\n"
     ]
    },
    {
     "name": "stdout",
     "output_type": "stream",
     "text": [
      "Epoch 75/100\n",
      "4575/4575 [==============================] - 40s 9ms/step - loss: 892.0213 - val_loss: 836.5776\n",
      "Epoch 76/100\n",
      "4575/4575 [==============================] - 47s 10ms/step - loss: 870.7372 - val_loss: 806.6488\n",
      "Epoch 77/100\n",
      "4575/4575 [==============================] - 39s 8ms/step - loss: 864.8764 - val_loss: 811.5499\n",
      "Epoch 78/100\n",
      "4575/4575 [==============================] - 39s 8ms/step - loss: 870.0658 - val_loss: 845.4254\n",
      "Epoch 79/100\n",
      "4575/4575 [==============================] - 40s 9ms/step - loss: 857.6677 - val_loss: 828.3923\n",
      "Epoch 80/100\n",
      "4575/4575 [==============================] - 39s 9ms/step - loss: 877.5454 - val_loss: 794.8690\n",
      "Epoch 81/100\n",
      "4575/4575 [==============================] - 40s 9ms/step - loss: 855.3418 - val_loss: 797.7685\n",
      "Epoch 82/100\n",
      "4575/4575 [==============================] - 41s 9ms/step - loss: 849.3742 - val_loss: 821.5186\n",
      "Epoch 83/100\n",
      "4575/4575 [==============================] - 39s 8ms/step - loss: 851.6975 - val_loss: 806.1917\n",
      "Epoch 84/100\n",
      "4575/4575 [==============================] - 44s 10ms/step - loss: 843.5406 - val_loss: 842.5182\n",
      "Epoch 85/100\n",
      "4575/4575 [==============================] - 42s 9ms/step - loss: 849.0056 - val_loss: 807.5354\n",
      "Epoch 86/100\n",
      "4575/4575 [==============================] - 41s 9ms/step - loss: 847.9923 - val_loss: 938.3293\n",
      "Epoch 87/100\n",
      "4575/4575 [==============================] - 37s 8ms/step - loss: 863.4750 - val_loss: 814.3214\n",
      "Epoch 88/100\n",
      "4575/4575 [==============================] - 37s 8ms/step - loss: 850.1285 - val_loss: 794.7325\n",
      "Epoch 89/100\n",
      "4575/4575 [==============================] - 39s 9ms/step - loss: 838.4743 - val_loss: 818.4845\n",
      "Epoch 90/100\n",
      "4575/4575 [==============================] - 52s 11ms/step - loss: 840.1676 - val_loss: 849.3956\n",
      "Epoch 91/100\n",
      "4575/4575 [==============================] - 54s 12ms/step - loss: 822.5243 - val_loss: 797.8790\n",
      "Epoch 92/100\n",
      "4575/4575 [==============================] - 45s 10ms/step - loss: 820.7092 - val_loss: 789.4939\n",
      "Epoch 93/100\n",
      "4575/4575 [==============================] - 35s 8ms/step - loss: 830.8013 - val_loss: 786.3254\n",
      "Epoch 94/100\n",
      "4575/4575 [==============================] - 35s 8ms/step - loss: 820.9218 - val_loss: 806.9223\n",
      "Epoch 95/100\n",
      "4575/4575 [==============================] - 35s 8ms/step - loss: 830.2331 - val_loss: 805.6090\n",
      "Epoch 96/100\n",
      "4575/4575 [==============================] - 43s 10ms/step - loss: 827.7744 - val_loss: 815.5251\n",
      "Epoch 97/100\n",
      "4575/4575 [==============================] - 37s 8ms/step - loss: 818.4206 - val_loss: 764.5659\n",
      "Epoch 98/100\n",
      "4575/4575 [==============================] - 41s 9ms/step - loss: 814.9136 - val_loss: 898.4933\n",
      "Epoch 99/100\n",
      "4575/4575 [==============================] - 45s 10ms/step - loss: 820.5552 - val_loss: 789.5771\n",
      "Epoch 100/100\n",
      "4575/4575 [==============================] - 45s 10ms/step - loss: 808.2122 - val_loss: 797.8202\n"
     ]
    },
    {
     "data": {
      "text/plain": [
       "<keras.callbacks.History at 0xb3172c610>"
      ]
     },
     "execution_count": 16,
     "metadata": {},
     "output_type": "execute_result"
    }
   ],
   "source": [
    "autoencoder.compile('nadam','mse')\n",
    "autoencoder.fit(x=x_train,y=x_train,epochs=100,\n",
    "                    validation_data=[x_test,x_test])"
   ]
  },
  {
   "cell_type": "code",
   "execution_count": 17,
   "metadata": {},
   "outputs": [
    {
     "data": {
      "text/plain": [
       "<matplotlib.image.AxesImage at 0xb34ef2810>"
      ]
     },
     "execution_count": 17,
     "metadata": {},
     "output_type": "execute_result"
    },
    {
     "data": {
      "image/png": "[encoded data removed]",
      "text/plain": [
       "<matplotlib.figure.Figure at 0xb3151f310>"
      ]
     },
     "metadata": {
      "needs_background": "light"
     },
     "output_type": "display_data"
    }
   ],
   "source": [
    "images = x_test\n",
    "codes = encoder.predict(images)\n",
    "reconstructed = decoder.predict(codes)\n",
    "plt.imshow(reconstructed[10].argmax(axis=-1))"
   ]
  },
  {
   "cell_type": "code",
   "execution_count": null,
   "metadata": {},
   "outputs": [],
   "source": []
  },
  {
   "cell_type": "code",
   "execution_count": 18,
   "metadata": {},
   "outputs": [
    {
     "name": "stderr",
     "output_type": "stream",
     "text": [
      "/Users/bedabratachoudhury/anaconda2/lib/python2.7/site-packages/sklearn/neighbors/approximate.py:258: DeprecationWarning: LSHForest has poor performance and has been deprecated in 0.19. It will be removed in version 0.21.\n",
      "  DeprecationWarning)\n"
     ]
    }
   ],
   "source": [
    "from sklearn.neighbors import LSHForest\n",
    "lshf = LSHForest(n_estimators=50).fit(codes)\n",
    "\n",
    "\n",
    "def get_similar(image, n_neighbors=5):\n",
    "    assert image.ndim==3,\"image must be [batch,height,width,3]\"\n",
    "\n",
    "    code = encoder.predict(image[None])\n",
    "    \n",
    "    (distances,),(idx,) = lshf.kneighbors(code,n_neighbors=n_neighbors)\n",
    "    \n",
    "    return distances,images[idx]"
   ]
  },
  {
   "cell_type": "code",
   "execution_count": 19,
   "metadata": {},
   "outputs": [],
   "source": [
    "def show_similar(image):\n",
    "    \n",
    "    distances,neighbors = get_similar(image,n_neighbors=11)\n",
    "    \n",
    "    plt.figure(figsize=[8,6])\n",
    "    plt.subplot(3,4,1)\n",
    "    plt.imshow(image)\n",
    "    plt.title(\"Original image\")\n",
    "    \n",
    "    for i in range(11):\n",
    "        plt.subplot(3,4,i+2)\n",
    "        plt.imshow(neighbors[i])\n",
    "        plt.title(\"Dist=%.3f\"%distances[i])\n",
    "    plt.show()"
   ]
  },
  {
   "cell_type": "code",
   "execution_count": 20,
   "metadata": {
    "scrolled": true
   },
   "outputs": [
    {
     "data": {
      "image/png": "[encoded data removed]",
      "text/plain": [
       "<matplotlib.figure.Figure at 0xb35768110>"
      ]
     },
     "metadata": {
      "needs_background": "light"
     },
     "output_type": "display_data"
    }
   ],
   "source": [
    "import matplotlib.pyplot as plt\n",
    "show_similar(x_test[100])\n",
    "plt.show()"
   ]
  },
  {
   "cell_type": "code",
   "execution_count": null,
   "metadata": {},
   "outputs": [],
   "source": []
  },
  {
   "cell_type": "code",
   "execution_count": null,
   "metadata": {},
   "outputs": [],
   "source": []
  },
  {
   "cell_type": "code",
   "execution_count": null,
   "metadata": {},
   "outputs": [],
   "source": []
  }
 ],
 "metadata": {
  "kernelspec": {
   "display_name": "Python 2",
   "language": "python",
   "name": "python2"
  },
  "language_info": {
   "codemirror_mode": {
    "name": "ipython",
    "version": 2
   },
   "file_extension": ".py",
   "mimetype": "text/x-python",
   "name": "python",
   "nbconvert_exporter": "python",
   "pygments_lexer": "ipython2",
   "version": "2.7.15"
  }
 },
 "nbformat": 4,
 "nbformat_minor": 2
}
