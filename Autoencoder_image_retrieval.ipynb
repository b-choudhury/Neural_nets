{
 "cells": [
  {
   "cell_type": "code",
   "execution_count": 1,
   "metadata": {},
   "outputs": [
    {
     "name": "stdout",
     "output_type": "stream",
     "text": [
      "tf.estimator package not installed.\n",
      "tf.estimator package not installed.\n"
     ]
    },
    {
     "name": "stderr",
     "output_type": "stream",
     "text": [
      "Using TensorFlow backend.\n"
     ]
    }
   ],
   "source": [
    "import sys\n",
    "import os\n",
    "import cv2\n",
    "import numpy as np\n",
    "import tensorflow\n",
    "import keras\n",
    "import keras, keras.layers as L\n",
    "sys.path.append(\"..\")"
   ]
  },
  {
   "cell_type": "code",
   "execution_count": 26,
   "metadata": {},
   "outputs": [],
   "source": [
    "#Load images\n",
    "def load_data(data_directory):\n",
    "    directories = [d for d in os.listdir(data_directory) \n",
    "                   if os.path.isdir(os.path.join(data_directory, d))]\n",
    "    labels = []\n",
    "    images = []\n",
    "    for d in directories:\n",
    "        label_directory = os.path.join(data_directory, d)\n",
    "        file_names = [os.path.join(label_directory, f) \n",
    "                      for f in os.listdir(label_directory) \n",
    "                      if f.endswith(\".ppm\")]\n",
    "        for f in file_names:\n",
    "            images.append(cv2.imread(f))\n",
    "            labels.append(int(d))\n",
    "    return images, labels\n",
    "ROOT_PATH = \"\"\n",
    "train_data_directory = os.path.join(ROOT_PATH, \"Training\")\n",
    "test_data_directory = os.path.join(ROOT_PATH, \"Testing\")\n",
    "\n",
    "\n",
    "x_train, y_train = load_data(train_data_directory)\n",
    "x_train = np.array(x_train)\n",
    "y_train = np.array(y_train)\n",
    "\n",
    "x_test, y_test = load_data(test_data_directory)\n",
    "x_test = np.array(x_test)\n",
    "y_test = np.array(y_test)\n",
    "#Preprocess\n",
    "x_test = [cv2.resize(image, (32, 32)) for image in x_test]\n",
    "x_train = [cv2.resize(image, (32, 32)) for image in x_train]\n",
    "x_test = np.array(x_test)\n",
    "x_train = np.array(x_train)\n",
    "x_train = x_train.astype('float32') / 255.0 - 0.5\n",
    "x_test = x_test.astype('float32') / 255.0 - 0.5\n",
    "\n",
    "y_train = np.reshape(y_train,[y_train.shape[0],1])\n",
    "y_test = np.reshape(y_test,[y_test.shape[0],1])\n",
    "\n"
   ]
  },
  {
   "cell_type": "code",
   "execution_count": 27,
   "metadata": {},
   "outputs": [
    {
     "data": {
      "image/png": "[encoded data removed]",
      "text/plain": [
       "<matplotlib.figure.Figure at 0xb399504d0>"
      ]
     },
     "metadata": {
      "needs_background": "light"
     },
     "output_type": "display_data"
    }
   ],
   "source": [
    "import matplotlib.pyplot as plt\n",
    "\n",
    "def show_image(x):\n",
    "    plt.imshow(np.clip(x + 0.5, 0, 1))\n",
    "    \n",
    "IMG_SHAPE = x_train[0].shape\n",
    "plt.title('sample images')\n",
    "\n",
    "show_image(x_test[7])\n",
    "\n"
   ]
  },
  {
   "cell_type": "code",
   "execution_count": 28,
   "metadata": {},
   "outputs": [],
   "source": [
    "def build_deep_autoencoder(img_shape, code_size):\n",
    "    \"\"\"PCA's deeper brother. See instructions above. Use `code_size` in layer definitions.\"\"\"\n",
    "    H,W,C = img_shape\n",
    "    \n",
    "    # encoder\n",
    "    encoder = keras.models.Sequential()\n",
    "    encoder.add(L.InputLayer(img_shape))\n",
    "    \n",
    "    ### YOUR CODE HERE: define encoder as per instructions above ###\n",
    "    encoder.add(L.Conv2D(filters=32, kernel_size=(3, 3), activation='elu', padding='same'))\n",
    "    encoder.add(L.MaxPooling2D(pool_size=(2, 2)))\n",
    "    encoder.add(L.Conv2D(filters=64, kernel_size=(3, 3), activation='elu', padding='same'))\n",
    "    encoder.add(L.MaxPooling2D(pool_size=(2, 2)))\n",
    "    encoder.add(L.Conv2D(filters=128, kernel_size=(3, 3), activation='elu', padding='same'))\n",
    "    encoder.add(L.MaxPooling2D(pool_size=(2, 2)))\n",
    "    encoder.add(L.Conv2D(filters=256, kernel_size=(3, 3), activation='elu', padding='same'))\n",
    "    encoder.add(L.MaxPooling2D(pool_size=(2, 2)))\n",
    "    encoder.add(L.Flatten())\n",
    "    encoder.add(L.Dense(code_size))\n",
    "\n",
    "    # decoder\n",
    "    decoder = keras.models.Sequential()\n",
    "    decoder.add(L.InputLayer((code_size,)))\n",
    "    \n",
    "    ### YOUR CODE HERE: define decoder as per instructions above ###\n",
    "    decoder.add(L.Dense(2*2*256))\n",
    "    decoder.add(L.Reshape((2, 2, 256)))\n",
    "    decoder.add(L.Conv2DTranspose(filters=128, kernel_size=(3, 3), strides=2, activation='elu', padding='same'))\n",
    "    decoder.add(L.Conv2DTranspose(filters=64, kernel_size=(3, 3), strides=2, activation='elu', padding='same'))\n",
    "    decoder.add(L.Conv2DTranspose(filters=32, kernel_size=(3, 3), strides=2, activation='elu', padding='same'))\n",
    "    decoder.add(L.Conv2DTranspose(filters=3, kernel_size=(3, 3), strides=2, activation=None, padding='same'))\n",
    "    \n",
    "    return encoder, decoder"
   ]
  },
  {
   "cell_type": "code",
   "execution_count": 29,
   "metadata": {
    "scrolled": true
   },
   "outputs": [],
   "source": [
    "encoder,decoder = build_deep_autoencoder(IMG_SHAPE,code_size=512)"
   ]
  },
  {
   "cell_type": "code",
   "execution_count": 30,
   "metadata": {
    "scrolled": true
   },
   "outputs": [
    {
     "name": "stdout",
     "output_type": "stream",
     "text": [
      "_________________________________________________________________\n",
      "Layer (type)                 Output Shape              Param #   \n",
      "=================================================================\n",
      "conv2d_11 (Conv2D)           (None, 32, 32, 32)        896       \n",
      "_________________________________________________________________\n",
      "max_pooling2d_10 (MaxPooling (None, 16, 16, 32)        0         \n",
      "_________________________________________________________________\n",
      "conv2d_12 (Conv2D)           (None, 16, 16, 64)        18496     \n",
      "_________________________________________________________________\n",
      "max_pooling2d_11 (MaxPooling (None, 8, 8, 64)          0         \n",
      "_________________________________________________________________\n",
      "conv2d_13 (Conv2D)           (None, 8, 8, 128)         73856     \n",
      "_________________________________________________________________\n",
      "max_pooling2d_12 (MaxPooling (None, 4, 4, 128)         0         \n",
      "_________________________________________________________________\n",
      "conv2d_14 (Conv2D)           (None, 4, 4, 256)         295168    \n",
      "_________________________________________________________________\n",
      "max_pooling2d_13 (MaxPooling (None, 2, 2, 256)         0         \n",
      "_________________________________________________________________\n",
      "flatten_4 (Flatten)          (None, 1024)              0         \n",
      "_________________________________________________________________\n",
      "dense_11 (Dense)             (None, 512)               524800    \n",
      "=================================================================\n",
      "Total params: 913,216\n",
      "Trainable params: 913,216\n",
      "Non-trainable params: 0\n",
      "_________________________________________________________________\n"
     ]
    }
   ],
   "source": [
    "#autoencoder training\n",
    "\n",
    "inp = L.Input(IMG_SHAPE)\n",
    "code = encoder(inp)\n",
    "reconstruction = decoder(code)\n",
    "\n",
    "autoencoder = keras.models.Model(inp,reconstruction)\n",
    "\n",
    "encoder.summary()"
   ]
  },
  {
   "cell_type": "code",
   "execution_count": 33,
   "metadata": {
    "scrolled": true
   },
   "outputs": [
    {
     "name": "stdout",
     "output_type": "stream",
     "text": [
      "Train on 4575 samples, validate on 2520 samples\n",
      "Epoch 1/100\n",
      "4575/4575 [==============================] - 37s 8ms/step - loss: 0.0525 - val_loss: 0.0508\n",
      "Epoch 2/100\n",
      "4575/4575 [==============================] - 33s 7ms/step - loss: 0.0455 - val_loss: 0.0347\n",
      "Epoch 3/100\n",
      "4575/4575 [==============================] - 32s 7ms/step - loss: 0.0353 - val_loss: 0.0304\n",
      "Epoch 4/100\n",
      "4575/4575 [==============================] - 32s 7ms/step - loss: 0.0317 - val_loss: 0.0303\n",
      "Epoch 5/100\n",
      "4575/4575 [==============================] - 34s 7ms/step - loss: 0.0288 - val_loss: 0.0272\n",
      "Epoch 6/100\n",
      "4575/4575 [==============================] - 36s 8ms/step - loss: 0.0295 - val_loss: 0.0254\n",
      "Epoch 7/100\n",
      "4575/4575 [==============================] - 33s 7ms/step - loss: 0.0261 - val_loss: 0.0250\n",
      "Epoch 8/100\n",
      "4575/4575 [==============================] - 37s 8ms/step - loss: 0.0246 - val_loss: 0.0237\n",
      "Epoch 9/100\n",
      "4575/4575 [==============================] - 37s 8ms/step - loss: 0.0244 - val_loss: 0.0247\n",
      "Epoch 10/100\n",
      "4575/4575 [==============================] - 35s 8ms/step - loss: 0.0232 - val_loss: 0.0252\n",
      "Epoch 11/100\n",
      "4575/4575 [==============================] - 32s 7ms/step - loss: 0.0229 - val_loss: 0.0230\n",
      "Epoch 12/100\n",
      "4575/4575 [==============================] - 33s 7ms/step - loss: 0.0221 - val_loss: 0.0254\n",
      "Epoch 13/100\n",
      "4575/4575 [==============================] - 33s 7ms/step - loss: 0.0215 - val_loss: 0.0224\n",
      "Epoch 14/100\n",
      "4575/4575 [==============================] - 36s 8ms/step - loss: 0.0215 - val_loss: 0.0220\n",
      "Epoch 15/100\n",
      "4575/4575 [==============================] - 37s 8ms/step - loss: 0.0208 - val_loss: 0.0213\n",
      "Epoch 16/100\n",
      "4575/4575 [==============================] - 36s 8ms/step - loss: 0.0205 - val_loss: 0.0217\n",
      "Epoch 17/100\n",
      "4575/4575 [==============================] - 38s 8ms/step - loss: 0.0204 - val_loss: 0.0217\n",
      "Epoch 18/100\n",
      "4575/4575 [==============================] - 37s 8ms/step - loss: 0.0200 - val_loss: 0.0209\n",
      "Epoch 19/100\n",
      "4575/4575 [==============================] - 33s 7ms/step - loss: 0.0197 - val_loss: 0.0215\n",
      "Epoch 20/100\n",
      "4575/4575 [==============================] - 34s 7ms/step - loss: 0.0198 - val_loss: 0.0238\n",
      "Epoch 21/100\n",
      "4575/4575 [==============================] - 34s 7ms/step - loss: 0.0195 - val_loss: 0.0221\n",
      "Epoch 22/100\n",
      "4575/4575 [==============================] - 34s 8ms/step - loss: 0.0191 - val_loss: 0.0206\n",
      "Epoch 23/100\n",
      "4575/4575 [==============================] - 34s 7ms/step - loss: 0.0188 - val_loss: 0.0218\n",
      "Epoch 24/100\n",
      "4575/4575 [==============================] - 34s 7ms/step - loss: 0.0185 - val_loss: 0.0203\n",
      "Epoch 25/100\n",
      "4575/4575 [==============================] - 34s 8ms/step - loss: 0.0185 - val_loss: 0.0204\n",
      "Epoch 26/100\n",
      "4575/4575 [==============================] - 33s 7ms/step - loss: 0.0183 - val_loss: 0.0213\n",
      "Epoch 27/100\n",
      "4575/4575 [==============================] - 37s 8ms/step - loss: 0.0179 - val_loss: 0.0201\n",
      "Epoch 28/100\n",
      "4575/4575 [==============================] - 36s 8ms/step - loss: 0.0180 - val_loss: 0.0202\n",
      "Epoch 29/100\n",
      "4575/4575 [==============================] - 37s 8ms/step - loss: 0.0177 - val_loss: 0.0199\n",
      "Epoch 30/100\n",
      "4575/4575 [==============================] - 36s 8ms/step - loss: 0.0174 - val_loss: 0.0235\n",
      "Epoch 31/100\n",
      "4575/4575 [==============================] - 33s 7ms/step - loss: 0.0174 - val_loss: 0.0194\n",
      "Epoch 32/100\n",
      "4575/4575 [==============================] - 33s 7ms/step - loss: 0.0171 - val_loss: 0.0214\n",
      "Epoch 33/100\n",
      "4575/4575 [==============================] - 33s 7ms/step - loss: 0.0170 - val_loss: 0.0204\n",
      "Epoch 34/100\n",
      "4575/4575 [==============================] - 35s 8ms/step - loss: 0.0167 - val_loss: 0.0202\n",
      "Epoch 35/100\n",
      "4575/4575 [==============================] - 33s 7ms/step - loss: 0.0167 - val_loss: 0.0197\n",
      "Epoch 36/100\n",
      "4575/4575 [==============================] - 32s 7ms/step - loss: 0.0169 - val_loss: 0.0188\n",
      "Epoch 37/100\n",
      "4575/4575 [==============================] - 33s 7ms/step - loss: 0.0163 - val_loss: 0.0190\n",
      "Epoch 38/100\n",
      "4575/4575 [==============================] - 32s 7ms/step - loss: 0.0164 - val_loss: 0.0198\n",
      "Epoch 39/100\n",
      "4575/4575 [==============================] - 32s 7ms/step - loss: 0.0163 - val_loss: 0.0195\n",
      "Epoch 40/100\n",
      "4575/4575 [==============================] - 34s 7ms/step - loss: 0.0160 - val_loss: 0.0195\n",
      "Epoch 41/100\n",
      "4575/4575 [==============================] - 34s 7ms/step - loss: 0.0160 - val_loss: 0.0184\n",
      "Epoch 42/100\n",
      "4575/4575 [==============================] - 35s 8ms/step - loss: 0.0161 - val_loss: 0.0188\n",
      "Epoch 43/100\n",
      "4575/4575 [==============================] - 32s 7ms/step - loss: 0.0158 - val_loss: 0.0188\n",
      "Epoch 44/100\n",
      "4575/4575 [==============================] - 32s 7ms/step - loss: 0.0156 - val_loss: 0.0185\n",
      "Epoch 45/100\n",
      "4575/4575 [==============================] - 33s 7ms/step - loss: 0.0156 - val_loss: 0.0183\n",
      "Epoch 46/100\n",
      "4575/4575 [==============================] - 34s 7ms/step - loss: 0.0154 - val_loss: 0.0183\n",
      "Epoch 47/100\n",
      "4575/4575 [==============================] - 34s 7ms/step - loss: 0.0154 - val_loss: 0.0182\n",
      "Epoch 48/100\n",
      "4575/4575 [==============================] - 36s 8ms/step - loss: 0.0151 - val_loss: 0.0183\n",
      "Epoch 49/100\n",
      "4575/4575 [==============================] - 32s 7ms/step - loss: 0.0153 - val_loss: 0.0182\n",
      "Epoch 50/100\n",
      "4575/4575 [==============================] - 35s 8ms/step - loss: 0.0150 - val_loss: 0.0188\n",
      "Epoch 51/100\n",
      "4575/4575 [==============================] - 32s 7ms/step - loss: 0.0148 - val_loss: 0.0179\n",
      "Epoch 52/100\n",
      "4575/4575 [==============================] - 35s 8ms/step - loss: 0.0148 - val_loss: 0.0182\n",
      "Epoch 53/100\n",
      "4575/4575 [==============================] - 34s 7ms/step - loss: 0.0149 - val_loss: 0.0179\n",
      "Epoch 54/100\n",
      "4575/4575 [==============================] - 32s 7ms/step - loss: 0.0146 - val_loss: 0.0179\n",
      "Epoch 55/100\n",
      "4575/4575 [==============================] - 33s 7ms/step - loss: 0.0145 - val_loss: 0.0181\n",
      "Epoch 56/100\n",
      "4575/4575 [==============================] - 33s 7ms/step - loss: 0.0145 - val_loss: 0.0189\n",
      "Epoch 57/100\n",
      "4575/4575 [==============================] - 38s 8ms/step - loss: 0.0146 - val_loss: 0.0180\n",
      "Epoch 58/100\n",
      "4575/4575 [==============================] - 35s 8ms/step - loss: 0.0146 - val_loss: 0.0183\n",
      "Epoch 59/100\n",
      "4575/4575 [==============================] - 34s 8ms/step - loss: 0.0144 - val_loss: 0.0178\n",
      "Epoch 60/100\n",
      "4575/4575 [==============================] - 35s 8ms/step - loss: 0.0141 - val_loss: 0.0178\n",
      "Epoch 61/100\n",
      "4575/4575 [==============================] - 36s 8ms/step - loss: 0.0141 - val_loss: 0.0190\n",
      "Epoch 62/100\n",
      "4575/4575 [==============================] - 35s 8ms/step - loss: 0.0141 - val_loss: 0.0184\n",
      "Epoch 63/100\n",
      "4575/4575 [==============================] - 37s 8ms/step - loss: 0.0141 - val_loss: 0.0174\n",
      "Epoch 64/100\n",
      "4575/4575 [==============================] - 40s 9ms/step - loss: 0.0139 - val_loss: 0.0178\n",
      "Epoch 65/100\n",
      "4575/4575 [==============================] - 38s 8ms/step - loss: 0.0140 - val_loss: 0.0182\n",
      "Epoch 66/100\n",
      "4575/4575 [==============================] - 31s 7ms/step - loss: 0.0138 - val_loss: 0.0175\n",
      "Epoch 67/100\n",
      "4575/4575 [==============================] - 32s 7ms/step - loss: 0.0138 - val_loss: 0.0175\n",
      "Epoch 68/100\n",
      "4575/4575 [==============================] - 39s 9ms/step - loss: 0.0140 - val_loss: 0.0176\n",
      "Epoch 69/100\n",
      "4575/4575 [==============================] - 36s 8ms/step - loss: 0.0138 - val_loss: 0.0176\n",
      "Epoch 70/100\n",
      "4575/4575 [==============================] - 33s 7ms/step - loss: 0.0137 - val_loss: 0.0177\n",
      "Epoch 71/100\n",
      "4575/4575 [==============================] - 40s 9ms/step - loss: 0.0135 - val_loss: 0.0175\n",
      "Epoch 72/100\n",
      "4575/4575 [==============================] - 55s 12ms/step - loss: 0.0135 - val_loss: 0.0186\n",
      "Epoch 73/100\n",
      "4575/4575 [==============================] - 59s 13ms/step - loss: 0.0134 - val_loss: 0.0178\n",
      "Epoch 74/100\n",
      "4575/4575 [==============================] - 58s 13ms/step - loss: 0.0134 - val_loss: 0.0179\n",
      "Epoch 75/100\n",
      "4575/4575 [==============================] - 58s 13ms/step - loss: 0.0136 - val_loss: 0.0174\n",
      "Epoch 76/100\n",
      "4575/4575 [==============================] - 58s 13ms/step - loss: 0.0132 - val_loss: 0.0175\n",
      "Epoch 77/100\n",
      "4575/4575 [==============================] - 58s 13ms/step - loss: 0.0132 - val_loss: 0.0174\n",
      "Epoch 78/100\n"
     ]
    },
    {
     "name": "stdout",
     "output_type": "stream",
     "text": [
      "4575/4575 [==============================] - 54s 12ms/step - loss: 0.0132 - val_loss: 0.0174\n",
      "Epoch 79/100\n",
      "4575/4575 [==============================] - 55s 12ms/step - loss: 0.0132 - val_loss: 0.0174\n",
      "Epoch 80/100\n",
      "4575/4575 [==============================] - 55s 12ms/step - loss: 0.0130 - val_loss: 0.0174\n",
      "Epoch 81/100\n",
      "4575/4575 [==============================] - 59s 13ms/step - loss: 0.0130 - val_loss: 0.0173\n",
      "Epoch 82/100\n",
      "4575/4575 [==============================] - 59s 13ms/step - loss: 0.0131 - val_loss: 0.0182\n",
      "Epoch 83/100\n",
      "4575/4575 [==============================] - 55s 12ms/step - loss: 0.0129 - val_loss: 0.0176\n",
      "Epoch 84/100\n",
      "4575/4575 [==============================] - 52s 11ms/step - loss: 0.0131 - val_loss: 0.0175\n",
      "Epoch 85/100\n",
      "4575/4575 [==============================] - 52s 11ms/step - loss: 0.0129 - val_loss: 0.0186\n",
      "Epoch 86/100\n",
      "4575/4575 [==============================] - 51s 11ms/step - loss: 0.0129 - val_loss: 0.0173\n",
      "Epoch 87/100\n",
      "4575/4575 [==============================] - 50s 11ms/step - loss: 0.0127 - val_loss: 0.0172\n",
      "Epoch 88/100\n",
      "4575/4575 [==============================] - 50s 11ms/step - loss: 0.0128 - val_loss: 0.0172\n",
      "Epoch 89/100\n",
      "4575/4575 [==============================] - 51s 11ms/step - loss: 0.0127 - val_loss: 0.0178\n",
      "Epoch 90/100\n",
      "4575/4575 [==============================] - 52s 11ms/step - loss: 0.0126 - val_loss: 0.0174\n",
      "Epoch 91/100\n",
      "4575/4575 [==============================] - 50s 11ms/step - loss: 0.0127 - val_loss: 0.0178\n",
      "Epoch 92/100\n",
      "4575/4575 [==============================] - 51s 11ms/step - loss: 0.0128 - val_loss: 0.0172\n",
      "Epoch 93/100\n",
      "4575/4575 [==============================] - 51s 11ms/step - loss: 0.0126 - val_loss: 0.0174\n",
      "Epoch 94/100\n",
      "4575/4575 [==============================] - 51s 11ms/step - loss: 0.0125 - val_loss: 0.0171\n",
      "Epoch 95/100\n",
      "4575/4575 [==============================] - 51s 11ms/step - loss: 0.0125 - val_loss: 0.0173\n",
      "Epoch 96/100\n",
      "4575/4575 [==============================] - 378s 83ms/step - loss: 0.0126 - val_loss: 0.0171\n",
      "Epoch 97/100\n",
      "4575/4575 [==============================] - 66s 15ms/step - loss: 0.0124 - val_loss: 0.0171\n",
      "Epoch 98/100\n",
      "4575/4575 [==============================] - 57s 12ms/step - loss: 0.0125 - val_loss: 0.0170\n",
      "Epoch 99/100\n",
      "4575/4575 [==============================] - 54s 12ms/step - loss: 0.0125 - val_loss: 0.0170\n",
      "Epoch 100/100\n",
      "4575/4575 [==============================] - 65s 14ms/step - loss: 0.0123 - val_loss: 0.0176\n"
     ]
    },
    {
     "data": {
      "text/plain": [
       "<keras.callbacks.History at 0xb30d1e590>"
      ]
     },
     "execution_count": 33,
     "metadata": {},
     "output_type": "execute_result"
    }
   ],
   "source": [
    "autoencoder.compile('nadam','mse')\n",
    "autoencoder.fit(x=x_train,y=x_train,epochs=100,\n",
    "                    validation_data=[x_test,x_test])"
   ]
  },
  {
   "cell_type": "code",
   "execution_count": 53,
   "metadata": {
    "scrolled": true
   },
   "outputs": [
    {
     "data": {
      "image/png": "[encoded data removed]",
      "text/plain": [
       "<matplotlib.figure.Figure at 0xb4658c290>"
      ]
     },
     "metadata": {
      "needs_background": "light"
     },
     "output_type": "display_data"
    }
   ],
   "source": [
    "image = x_test[100]\n",
    "code = encoder.predict(image[None])[0]\n",
    "reconstructed = decoder.predict(code[None])[0]\n",
    "show_image(reconstructed)"
   ]
  },
  {
   "cell_type": "code",
   "execution_count": 54,
   "metadata": {},
   "outputs": [],
   "source": [
    "#Use this for end-to-end image segmentation/denoising.\n",
    "images = x_train\n",
    "codes=encoder.predict(x_train)"
   ]
  },
  {
   "cell_type": "code",
   "execution_count": 55,
   "metadata": {
    "scrolled": true
   },
   "outputs": [
    {
     "name": "stderr",
     "output_type": "stream",
     "text": [
      "/Users/bedabratachoudhury/anaconda2/lib/python2.7/site-packages/sklearn/neighbors/approximate.py:258: DeprecationWarning: LSHForest has poor performance and has been deprecated in 0.19. It will be removed in version 0.21.\n",
      "  DeprecationWarning)\n"
     ]
    }
   ],
   "source": [
    "from sklearn.neighbors import LSHForest\n",
    "lshf = LSHForest(n_estimators=50).fit(codes)\n",
    "\n",
    "\n",
    "def get_similar(image, n_neighbors=5):\n",
    "    assert image.ndim==3,\"image must be [batch,height,width,3]\"\n",
    "\n",
    "    code = encoder.predict(image[None])\n",
    "    \n",
    "    (distances,),(idx,) = lshf.kneighbors(code,n_neighbors=n_neighbors)\n",
    "    \n",
    "    return distances,images[idx]"
   ]
  },
  {
   "cell_type": "code",
   "execution_count": 56,
   "metadata": {},
   "outputs": [],
   "source": [
    "def show_similar(image):\n",
    "    \n",
    "    distances,neighbors = get_similar(image,n_neighbors=11)\n",
    "    \n",
    "    plt.figure(figsize=[8,6])\n",
    "    plt.subplot(3,4,1)\n",
    "    plt.imshow(image)\n",
    "    plt.title(\"Original image\")\n",
    "    \n",
    "    for i in range(11):\n",
    "        plt.subplot(3,4,i+2)\n",
    "        plt.imshow(neighbors[i])\n",
    "        plt.title(\"Dist=%.3f\"%distances[i])\n",
    "    plt.show()"
   ]
  },
  {
   "cell_type": "code",
   "execution_count": 57,
   "metadata": {
    "scrolled": true
   },
   "outputs": [
    {
     "data": {
      "image/png": "[encoded data removed]",
      "text/plain": [
       "<matplotlib.figure.Figure at 0xb36a357d0>"
      ]
     },
     "metadata": {
      "needs_background": "light"
     },
     "output_type": "display_data"
    }
   ],
   "source": [
    "import matplotlib.pyplot as plt\n",
    "show_similar(x_test[100])\n",
    "plt.show()"
   ]
  },
  {
   "cell_type": "code",
   "execution_count": null,
   "metadata": {},
   "outputs": [],
   "source": []
  },
  {
   "cell_type": "code",
   "execution_count": null,
   "metadata": {},
   "outputs": [],
   "source": []
  },
  {
   "cell_type": "code",
   "execution_count": null,
   "metadata": {},
   "outputs": [],
   "source": []
  }
 ],
 "metadata": {
  "kernelspec": {
   "display_name": "Python 2",
   "language": "python",
   "name": "python2"
  },
  "language_info": {
   "codemirror_mode": {
    "name": "ipython",
    "version": 2
   },
   "file_extension": ".py",
   "mimetype": "text/x-python",
   "name": "python",
   "nbconvert_exporter": "python",
   "pygments_lexer": "ipython2",
   "version": "2.7.15"
  }
 },
 "nbformat": 4,
 "nbformat_minor": 2
}
