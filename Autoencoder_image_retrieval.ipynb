{
 "cells": [
  {
   "cell_type": "code",
   "execution_count": 7,
   "metadata": {},
   "outputs": [],
   "source": [
    "import sys\n",
    "import os\n",
    "import cv2\n",
    "import numpy as np\n",
    "import tensorflow\n",
    "import keras\n",
    "import keras, keras.layers as L\n",
    "sys.path.append(\"..\")\n",
    "from keras.datasets import cifar10"
   ]
  },
  {
   "cell_type": "code",
   "execution_count": 8,
   "metadata": {},
   "outputs": [],
   "source": [
    "#Load images\n",
    "def load_data(data_directory):\n",
    "    directories = [d for d in os.listdir(data_directory) \n",
    "                   if os.path.isdir(os.path.join(data_directory, d))]\n",
    "    labels = []\n",
    "    images = []\n",
    "    for d in directories:\n",
    "        label_directory = os.path.join(data_directory, d)\n",
    "        file_names = [os.path.join(label_directory, f) \n",
    "                      for f in os.listdir(label_directory) \n",
    "                      if f.endswith(\".ppm\")]\n",
    "        for f in file_names:\n",
    "            images.append(cv2.imread(f))\n",
    "            labels.append(int(d))\n",
    "    return images, labels\n",
    "ROOT_PATH = \"\"\n",
    "train_data_directory = os.path.join(ROOT_PATH, \"Training\")\n",
    "test_data_directory = os.path.join(ROOT_PATH, \"Testing\")\n",
    "\n",
    "\n",
    "x_train, y_train = load_data(train_data_directory)\n",
    "x_train = np.array(x_train)\n",
    "y_train = np.array(y_train)\n",
    "\n",
    "x_test, y_test = load_data(test_data_directory)\n",
    "x_test = np.array(x_test)\n",
    "y_test = np.array(y_test)\n",
    "#Preprocess\n",
    "x_test = [cv2.resize(image, (28, 28)) for image in x_test]\n",
    "x_train = [cv2.resize(image, (28, 28)) for image in x_train]\n",
    "x_test = np.array(x_test)\n",
    "x_train = np.array(x_train)\n",
    "\n",
    "y_train = np.reshape(y_train,[y_train.shape[0],1])\n",
    "y_test = np.reshape(y_test,[y_test.shape[0],1])\n",
    "\n"
   ]
  },
  {
   "cell_type": "code",
   "execution_count": 9,
   "metadata": {},
   "outputs": [
    {
     "data": {
      "text/plain": [
       "<matplotlib.image.AxesImage at 0xb36ebcc90>"
      ]
     },
     "execution_count": 9,
     "metadata": {},
     "output_type": "execute_result"
    },
    {
     "data": {
      "image/png": "[encoded data removed]",
      "text/plain": [
       "<matplotlib.figure.Figure at 0xb31f16390>"
      ]
     },
     "metadata": {
      "needs_background": "light"
     },
     "output_type": "display_data"
    }
   ],
   "source": [
    "import matplotlib.pyplot as plt\n",
    "\n",
    "IMG_SHAPE = x_train[0].shape\n",
    "plt.title('sample images')\n",
    "\n",
    "plt.imshow(x_test[7])\n",
    "\n"
   ]
  },
  {
   "cell_type": "code",
   "execution_count": 10,
   "metadata": {},
   "outputs": [],
   "source": [
    "def build_deep_autoencoder(img_shape,code_size=32):\n",
    "    \"\"\"PCA's deeper brother. See instructions above\"\"\"\n",
    "    H,W,C = img_shape\n",
    "    NFILTERS=16\n",
    "    N1=256\n",
    "\n",
    "    encoder = keras.models.Sequential()\n",
    "    encoder.add(L.InputLayer(img_shape))\n",
    "    encoder.add(L.normalization.BatchNormalization(axis=1))\n",
    "    \n",
    "    #Convolutions\n",
    "    encoder.add(L.Conv2D(filters=NFILTERS*2,kernel_size=3,padding=\"same\"))\n",
    "    encoder.add(L.advanced_activations.LeakyReLU())\n",
    "    encoder.add(L.Conv2D(filters=NFILTERS,kernel_size=3,padding=\"same\"))\n",
    "    encoder.add(L.advanced_activations.LeakyReLU())\n",
    "    encoder.add(L.MaxPooling2D())\n",
    "\n",
    "    \n",
    "    encoder.add(L.Flatten()) \n",
    "    \n",
    "    encoder.add(L.Dense(N1))\n",
    "    encoder.add(L.advanced_activations.LeakyReLU())\n",
    "    encoder.add(L.normalization.BatchNormalization())\n",
    "    encoder.add(L.Dense(N1))\n",
    "    encoder.add(L.advanced_activations.LeakyReLU())\n",
    "    encoder.add(L.normalization.BatchNormalization())    \n",
    "    \n",
    "    encoder.add(L.Dense(code_size))\n",
    "   \n",
    "    \n",
    "    decoder = keras.models.Sequential()\n",
    "    decoder.add(L.InputLayer((code_size,)))\n",
    "    decoder.add(L.normalization.BatchNormalization())\n",
    "    \n",
    "    decoder.add(L.Dense(N1))\n",
    "    decoder.add(L.advanced_activations.LeakyReLU())\n",
    "    decoder.add(L.normalization.BatchNormalization())\n",
    "    decoder.add(L.Dense(N1))\n",
    "    decoder.add(L.advanced_activations.LeakyReLU())\n",
    "    decoder.add(L.normalization.BatchNormalization())   \n",
    "    \n",
    "    \n",
    "    decoder.add(L.Dense(np.prod(img_shape)//4))\n",
    "    decoder.add(L.advanced_activations.LeakyReLU()) \n",
    "    decoder.add(L.normalization.BatchNormalization()) \n",
    "    decoder.add(L.Reshape((H//2,W//2,C)))   \n",
    "    decoder.add(L.UpSampling2D())\n",
    "\n",
    "    decoder.add(L.Deconv2D(filters=NFILTERS,kernel_size=3,padding=\"same\"))\n",
    "    decoder.add(L.advanced_activations.LeakyReLU())\n",
    "    decoder.add(L.Deconv2D(filters=NFILTERS*2,kernel_size=3,padding=\"same\")) \n",
    "    \n",
    "    encoder.add(L.advanced_activations.LeakyReLU())\n",
    "    decoder.add(L.Deconv2D(filters=3,kernel_size=3,padding=\"same\"))\n",
    "\n",
    "    \n",
    "    return encoder,decoder"
   ]
  },
  {
   "cell_type": "code",
   "execution_count": 54,
   "metadata": {
    "scrolled": true
   },
   "outputs": [],
   "source": [
    "encoder,decoder = build_deep_autoencoder(IMG_SHAPE,code_size=512)"
   ]
  },
  {
   "cell_type": "code",
   "execution_count": 55,
   "metadata": {
    "scrolled": true
   },
   "outputs": [
    {
     "name": "stdout",
     "output_type": "stream",
     "text": [
      "_________________________________________________________________\n",
      "Layer (type)                 Output Shape              Param #   \n",
      "=================================================================\n",
      "batch_normalization_36 (Batc (None, 28, 28, 3)         112       \n",
      "_________________________________________________________________\n",
      "conv2d_11 (Conv2D)           (None, 28, 28, 32)        896       \n",
      "_________________________________________________________________\n",
      "leaky_re_lu_46 (LeakyReLU)   (None, 28, 28, 32)        0         \n",
      "_________________________________________________________________\n",
      "conv2d_12 (Conv2D)           (None, 28, 28, 16)        4624      \n",
      "_________________________________________________________________\n",
      "leaky_re_lu_47 (LeakyReLU)   (None, 28, 28, 16)        0         \n",
      "_________________________________________________________________\n",
      "max_pooling2d_6 (MaxPooling2 (None, 14, 14, 16)        0         \n",
      "_________________________________________________________________\n",
      "flatten_6 (Flatten)          (None, 3136)              0         \n",
      "_________________________________________________________________\n",
      "dense_31 (Dense)             (None, 256)               803072    \n",
      "_________________________________________________________________\n",
      "leaky_re_lu_48 (LeakyReLU)   (None, 256)               0         \n",
      "_________________________________________________________________\n",
      "batch_normalization_37 (Batc (None, 256)               1024      \n",
      "_________________________________________________________________\n",
      "dense_32 (Dense)             (None, 256)               65792     \n",
      "_________________________________________________________________\n",
      "leaky_re_lu_49 (LeakyReLU)   (None, 256)               0         \n",
      "_________________________________________________________________\n",
      "batch_normalization_38 (Batc (None, 256)               1024      \n",
      "_________________________________________________________________\n",
      "dense_33 (Dense)             (None, 512)               131584    \n",
      "_________________________________________________________________\n",
      "leaky_re_lu_54 (LeakyReLU)   (None, 512)               0         \n",
      "=================================================================\n",
      "Total params: 1,008,128\n",
      "Trainable params: 1,007,048\n",
      "Non-trainable params: 1,080\n",
      "_________________________________________________________________\n"
     ]
    }
   ],
   "source": [
    "#autoencoder training\n",
    "\n",
    "inp = L.Input(IMG_SHAPE)\n",
    "code = encoder(inp)\n",
    "reconstruction = decoder(code)\n",
    "\n",
    "autoencoder = keras.models.Model(inp,reconstruction)\n",
    "\n",
    "encoder.summary()"
   ]
  },
  {
   "cell_type": "code",
   "execution_count": 57,
   "metadata": {
    "scrolled": true
   },
   "outputs": [
    {
     "name": "stdout",
     "output_type": "stream",
     "text": [
      "Train on 4575 samples, validate on 2520 samples\n",
      "Epoch 1/100\n",
      "4575/4575 [==============================] - 43s 9ms/step - loss: 2272.9421 - val_loss: 1971.8576\n",
      "Epoch 2/100\n",
      "4575/4575 [==============================] - 40s 9ms/step - loss: 2111.4891 - val_loss: 1844.9952\n",
      "Epoch 3/100\n",
      "4575/4575 [==============================] - 39s 8ms/step - loss: 2054.9056 - val_loss: 1836.9948\n",
      "Epoch 4/100\n",
      "4575/4575 [==============================] - 38s 8ms/step - loss: 2007.4992 - val_loss: 1825.4074\n",
      "Epoch 5/100\n",
      "4575/4575 [==============================] - 36s 8ms/step - loss: 1973.4150 - val_loss: 1721.8088\n",
      "Epoch 6/100\n",
      "4575/4575 [==============================] - 38s 8ms/step - loss: 1886.9205 - val_loss: 1681.5398\n",
      "Epoch 7/100\n",
      "4575/4575 [==============================] - 38s 8ms/step - loss: 1721.5857 - val_loss: 1442.8408\n",
      "Epoch 8/100\n",
      "4575/4575 [==============================] - 35s 8ms/step - loss: 1595.9823 - val_loss: 1345.9937\n",
      "Epoch 9/100\n",
      "4575/4575 [==============================] - 34s 8ms/step - loss: 1481.4675 - val_loss: 1265.3248\n",
      "Epoch 10/100\n",
      "4575/4575 [==============================] - 38s 8ms/step - loss: 1422.5545 - val_loss: 1218.7288\n",
      "Epoch 11/100\n",
      "4575/4575 [==============================] - 37s 8ms/step - loss: 1377.4099 - val_loss: 1181.5253\n",
      "Epoch 12/100\n",
      "4575/4575 [==============================] - 36s 8ms/step - loss: 1349.2502 - val_loss: 1202.0296\n",
      "Epoch 13/100\n",
      "4575/4575 [==============================] - 36s 8ms/step - loss: 1330.3618 - val_loss: 1161.1139\n",
      "Epoch 14/100\n",
      "4575/4575 [==============================] - 35s 8ms/step - loss: 1291.6514 - val_loss: 1124.5071\n",
      "Epoch 15/100\n",
      "4575/4575 [==============================] - 35s 8ms/step - loss: 1276.0132 - val_loss: 1174.3403\n",
      "Epoch 16/100\n",
      "4575/4575 [==============================] - 35s 8ms/step - loss: 1263.9914 - val_loss: 1088.2847\n",
      "Epoch 17/100\n",
      "4575/4575 [==============================] - 37s 8ms/step - loss: 1249.7694 - val_loss: 1079.0399\n",
      "Epoch 18/100\n",
      "4575/4575 [==============================] - 36s 8ms/step - loss: 1239.2481 - val_loss: 1095.1897\n",
      "Epoch 19/100\n",
      "4575/4575 [==============================] - 44s 10ms/step - loss: 1198.0064 - val_loss: 1080.1347\n",
      "Epoch 20/100\n",
      "4575/4575 [==============================] - 43s 9ms/step - loss: 1189.0827 - val_loss: 1027.4740\n",
      "Epoch 21/100\n",
      "4575/4575 [==============================] - 43s 9ms/step - loss: 1171.9856 - val_loss: 1043.4928\n",
      "Epoch 22/100\n",
      "4575/4575 [==============================] - 44s 10ms/step - loss: 1148.1743 - val_loss: 1034.1110\n",
      "Epoch 23/100\n",
      "4575/4575 [==============================] - 43s 9ms/step - loss: 1137.4064 - val_loss: 989.8784\n",
      "Epoch 24/100\n",
      "4575/4575 [==============================] - 42s 9ms/step - loss: 1115.3886 - val_loss: 987.0851\n",
      "Epoch 25/100\n",
      "4575/4575 [==============================] - 37s 8ms/step - loss: 1113.1951 - val_loss: 981.2474\n",
      "Epoch 26/100\n",
      "4575/4575 [==============================] - 35s 8ms/step - loss: 1097.7701 - val_loss: 1011.4513\n",
      "Epoch 27/100\n",
      "4575/4575 [==============================] - 34s 8ms/step - loss: 1083.5619 - val_loss: 942.7598\n",
      "Epoch 28/100\n",
      "4575/4575 [==============================] - 34s 7ms/step - loss: 1080.8485 - val_loss: 941.3088\n",
      "Epoch 29/100\n",
      "4575/4575 [==============================] - 36s 8ms/step - loss: 1063.9483 - val_loss: 936.8016\n",
      "Epoch 30/100\n",
      "4575/4575 [==============================] - 69s 15ms/step - loss: 1052.4209 - val_loss: 937.2531\n",
      "Epoch 31/100\n",
      "4575/4575 [==============================] - 39s 8ms/step - loss: 1033.8647 - val_loss: 919.8053\n",
      "Epoch 32/100\n",
      "4575/4575 [==============================] - 38s 8ms/step - loss: 1035.6938 - val_loss: 915.0960\n",
      "Epoch 33/100\n",
      "4575/4575 [==============================] - 45s 10ms/step - loss: 1009.8977 - val_loss: 914.5214\n",
      "Epoch 34/100\n",
      "4575/4575 [==============================] - 39s 9ms/step - loss: 1024.0012 - val_loss: 962.1474\n",
      "Epoch 35/100\n",
      "4575/4575 [==============================] - 39s 8ms/step - loss: 1005.6790 - val_loss: 910.5358\n",
      "Epoch 36/100\n",
      "4575/4575 [==============================] - 39s 8ms/step - loss: 987.3540 - val_loss: 891.3599\n",
      "Epoch 37/100\n",
      "4575/4575 [==============================] - 37s 8ms/step - loss: 987.0110 - val_loss: 876.3005\n",
      "Epoch 38/100\n",
      "4575/4575 [==============================] - 37s 8ms/step - loss: 987.8288 - val_loss: 902.5943\n",
      "Epoch 39/100\n",
      "4575/4575 [==============================] - 37s 8ms/step - loss: 970.6012 - val_loss: 870.5890\n",
      "Epoch 40/100\n",
      "4575/4575 [==============================] - 39s 9ms/step - loss: 967.7786 - val_loss: 866.9328\n",
      "Epoch 41/100\n",
      "4575/4575 [==============================] - 38s 8ms/step - loss: 954.3049 - val_loss: 919.7471\n",
      "Epoch 42/100\n",
      "4575/4575 [==============================] - 36s 8ms/step - loss: 960.6272 - val_loss: 876.0849\n",
      "Epoch 43/100\n",
      "4575/4575 [==============================] - 35s 8ms/step - loss: 950.5664 - val_loss: 848.7311\n",
      "Epoch 44/100\n",
      "4575/4575 [==============================] - 36s 8ms/step - loss: 940.8103 - val_loss: 852.9668\n",
      "Epoch 45/100\n",
      "4575/4575 [==============================] - 36s 8ms/step - loss: 942.1918 - val_loss: 878.8824\n",
      "Epoch 46/100\n",
      " 800/4575 [====>.........................] - ETA: 25s - loss: 923.0616"
     ]
    },
    {
     "ename": "KeyboardInterrupt",
     "evalue": "",
     "output_type": "error",
     "traceback": [
      "\u001b[0;31m---------------------------------------------------------------------------\u001b[0m",
      "\u001b[0;31mKeyboardInterrupt\u001b[0m                         Traceback (most recent call last)",
      "\u001b[0;32m<ipython-input-57-d8dad83c7e44>\u001b[0m in \u001b[0;36m<module>\u001b[0;34m()\u001b[0m\n\u001b[1;32m      1\u001b[0m \u001b[0mautoencoder\u001b[0m\u001b[0;34m.\u001b[0m\u001b[0mcompile\u001b[0m\u001b[0;34m(\u001b[0m\u001b[0;34m'adamax'\u001b[0m\u001b[0;34m,\u001b[0m\u001b[0;34m'mse'\u001b[0m\u001b[0;34m)\u001b[0m\u001b[0;34m\u001b[0m\u001b[0m\n\u001b[1;32m      2\u001b[0m autoencoder.fit(x=x_train,y=x_train,epochs=100,\n\u001b[0;32m----> 3\u001b[0;31m                     validation_data=[x_test,x_test])\n\u001b[0m",
      "\u001b[0;32m/Users/bedabratachoudhury/anaconda2/lib/python2.7/site-packages/keras/engine/training.pyc\u001b[0m in \u001b[0;36mfit\u001b[0;34m(self, x, y, batch_size, epochs, verbose, callbacks, validation_split, validation_data, shuffle, class_weight, sample_weight, initial_epoch, steps_per_epoch, validation_steps, **kwargs)\u001b[0m\n\u001b[1;32m   1037\u001b[0m                                         \u001b[0minitial_epoch\u001b[0m\u001b[0;34m=\u001b[0m\u001b[0minitial_epoch\u001b[0m\u001b[0;34m,\u001b[0m\u001b[0;34m\u001b[0m\u001b[0m\n\u001b[1;32m   1038\u001b[0m                                         \u001b[0msteps_per_epoch\u001b[0m\u001b[0;34m=\u001b[0m\u001b[0msteps_per_epoch\u001b[0m\u001b[0;34m,\u001b[0m\u001b[0;34m\u001b[0m\u001b[0m\n\u001b[0;32m-> 1039\u001b[0;31m                                         validation_steps=validation_steps)\n\u001b[0m\u001b[1;32m   1040\u001b[0m \u001b[0;34m\u001b[0m\u001b[0m\n\u001b[1;32m   1041\u001b[0m     def evaluate(self, x=None, y=None,\n",
      "\u001b[0;32m/Users/bedabratachoudhury/anaconda2/lib/python2.7/site-packages/keras/engine/training_arrays.pyc\u001b[0m in \u001b[0;36mfit_loop\u001b[0;34m(model, f, ins, out_labels, batch_size, epochs, verbose, callbacks, val_f, val_ins, shuffle, callback_metrics, initial_epoch, steps_per_epoch, validation_steps)\u001b[0m\n\u001b[1;32m    197\u001b[0m                     \u001b[0mins_batch\u001b[0m\u001b[0;34m[\u001b[0m\u001b[0mi\u001b[0m\u001b[0;34m]\u001b[0m \u001b[0;34m=\u001b[0m \u001b[0mins_batch\u001b[0m\u001b[0;34m[\u001b[0m\u001b[0mi\u001b[0m\u001b[0;34m]\u001b[0m\u001b[0;34m.\u001b[0m\u001b[0mtoarray\u001b[0m\u001b[0;34m(\u001b[0m\u001b[0;34m)\u001b[0m\u001b[0;34m\u001b[0m\u001b[0m\n\u001b[1;32m    198\u001b[0m \u001b[0;34m\u001b[0m\u001b[0m\n\u001b[0;32m--> 199\u001b[0;31m                 \u001b[0mouts\u001b[0m \u001b[0;34m=\u001b[0m \u001b[0mf\u001b[0m\u001b[0;34m(\u001b[0m\u001b[0mins_batch\u001b[0m\u001b[0;34m)\u001b[0m\u001b[0;34m\u001b[0m\u001b[0m\n\u001b[0m\u001b[1;32m    200\u001b[0m                 \u001b[0mouts\u001b[0m \u001b[0;34m=\u001b[0m \u001b[0mto_list\u001b[0m\u001b[0;34m(\u001b[0m\u001b[0mouts\u001b[0m\u001b[0;34m)\u001b[0m\u001b[0;34m\u001b[0m\u001b[0m\n\u001b[1;32m    201\u001b[0m                 \u001b[0;32mfor\u001b[0m \u001b[0ml\u001b[0m\u001b[0;34m,\u001b[0m \u001b[0mo\u001b[0m \u001b[0;32min\u001b[0m \u001b[0mzip\u001b[0m\u001b[0;34m(\u001b[0m\u001b[0mout_labels\u001b[0m\u001b[0;34m,\u001b[0m \u001b[0mouts\u001b[0m\u001b[0;34m)\u001b[0m\u001b[0;34m:\u001b[0m\u001b[0;34m\u001b[0m\u001b[0m\n",
      "\u001b[0;32m/Users/bedabratachoudhury/anaconda2/lib/python2.7/site-packages/keras/backend/tensorflow_backend.pyc\u001b[0m in \u001b[0;36m__call__\u001b[0;34m(self, inputs)\u001b[0m\n\u001b[1;32m   2695\u001b[0m \u001b[0;34m\u001b[0m\u001b[0m\n\u001b[1;32m   2696\u001b[0m     \u001b[0;32mdef\u001b[0m \u001b[0m__call__\u001b[0m\u001b[0;34m(\u001b[0m\u001b[0mself\u001b[0m\u001b[0;34m,\u001b[0m \u001b[0minputs\u001b[0m\u001b[0;34m)\u001b[0m\u001b[0;34m:\u001b[0m\u001b[0;34m\u001b[0m\u001b[0m\n\u001b[0;32m-> 2697\u001b[0;31m         \u001b[0;32mif\u001b[0m \u001b[0mhasattr\u001b[0m\u001b[0;34m(\u001b[0m\u001b[0mget_session\u001b[0m\u001b[0;34m(\u001b[0m\u001b[0;34m)\u001b[0m\u001b[0;34m,\u001b[0m \u001b[0;34m'_make_callable_from_options'\u001b[0m\u001b[0;34m)\u001b[0m\u001b[0;34m:\u001b[0m\u001b[0;34m\u001b[0m\u001b[0m\n\u001b[0m\u001b[1;32m   2698\u001b[0m             \u001b[0;32mif\u001b[0m \u001b[0mpy_any\u001b[0m\u001b[0;34m(\u001b[0m\u001b[0mis_sparse\u001b[0m\u001b[0;34m(\u001b[0m\u001b[0mx\u001b[0m\u001b[0;34m)\u001b[0m \u001b[0;32mfor\u001b[0m \u001b[0mx\u001b[0m \u001b[0;32min\u001b[0m \u001b[0mself\u001b[0m\u001b[0;34m.\u001b[0m\u001b[0minputs\u001b[0m\u001b[0;34m)\u001b[0m\u001b[0;34m:\u001b[0m\u001b[0;34m\u001b[0m\u001b[0m\n\u001b[1;32m   2699\u001b[0m                 \u001b[0;32mif\u001b[0m \u001b[0mpy_any\u001b[0m\u001b[0;34m(\u001b[0m\u001b[0mis_tensor\u001b[0m\u001b[0;34m(\u001b[0m\u001b[0mx\u001b[0m\u001b[0;34m)\u001b[0m \u001b[0;32mfor\u001b[0m \u001b[0mx\u001b[0m \u001b[0;32min\u001b[0m \u001b[0minputs\u001b[0m\u001b[0;34m)\u001b[0m\u001b[0;34m:\u001b[0m\u001b[0;34m\u001b[0m\u001b[0m\n",
      "\u001b[0;32m/Users/bedabratachoudhury/anaconda2/lib/python2.7/site-packages/keras/backend/tensorflow_backend.pyc\u001b[0m in \u001b[0;36mget_session\u001b[0;34m()\u001b[0m\n\u001b[1;32m    191\u001b[0m             \u001b[0mcandidate_vars\u001b[0m \u001b[0;34m=\u001b[0m \u001b[0;34m[\u001b[0m\u001b[0;34m]\u001b[0m\u001b[0;34m\u001b[0m\u001b[0m\n\u001b[1;32m    192\u001b[0m             \u001b[0;32mfor\u001b[0m \u001b[0mv\u001b[0m \u001b[0;32min\u001b[0m \u001b[0mvariables\u001b[0m\u001b[0;34m:\u001b[0m\u001b[0;34m\u001b[0m\u001b[0m\n\u001b[0;32m--> 193\u001b[0;31m                 \u001b[0;32mif\u001b[0m \u001b[0;32mnot\u001b[0m \u001b[0mgetattr\u001b[0m\u001b[0;34m(\u001b[0m\u001b[0mv\u001b[0m\u001b[0;34m,\u001b[0m \u001b[0;34m'_keras_initialized'\u001b[0m\u001b[0;34m,\u001b[0m \u001b[0mFalse\u001b[0m\u001b[0;34m)\u001b[0m\u001b[0;34m:\u001b[0m\u001b[0;34m\u001b[0m\u001b[0m\n\u001b[0m\u001b[1;32m    194\u001b[0m                     \u001b[0mcandidate_vars\u001b[0m\u001b[0;34m.\u001b[0m\u001b[0mappend\u001b[0m\u001b[0;34m(\u001b[0m\u001b[0mv\u001b[0m\u001b[0;34m)\u001b[0m\u001b[0;34m\u001b[0m\u001b[0m\n\u001b[1;32m    195\u001b[0m             \u001b[0;32mif\u001b[0m \u001b[0mcandidate_vars\u001b[0m\u001b[0;34m:\u001b[0m\u001b[0;34m\u001b[0m\u001b[0m\n",
      "\u001b[0;31mKeyboardInterrupt\u001b[0m: "
     ]
    }
   ],
   "source": [
    "autoencoder.compile('adamax','mse')\n",
    "autoencoder.fit(x=x_train,y=x_train,epochs=100,\n",
    "                    validation_data=[x_test,x_test])"
   ]
  },
  {
   "cell_type": "code",
   "execution_count": 62,
   "metadata": {},
   "outputs": [
    {
     "data": {
      "text/plain": [
       "<matplotlib.image.AxesImage at 0x1a5005bf10>"
      ]
     },
     "execution_count": 62,
     "metadata": {},
     "output_type": "execute_result"
    },
    {
     "data": {
      "image/png": "[encoded data removed]",
      "text/plain": [
       "<matplotlib.figure.Figure at 0x1a4f0ec950>"
      ]
     },
     "metadata": {
      "needs_background": "light"
     },
     "output_type": "display_data"
    }
   ],
   "source": [
    "images = x_test\n",
    "codes = encoder.predict(images)\n",
    "reconstructed = decoder.predict(codes)\n",
    "plt.imshow(reconstructed[10].argmax(axis=-1))"
   ]
  },
  {
   "cell_type": "code",
   "execution_count": null,
   "metadata": {},
   "outputs": [],
   "source": []
  },
  {
   "cell_type": "code",
   "execution_count": 63,
   "metadata": {},
   "outputs": [
    {
     "name": "stderr",
     "output_type": "stream",
     "text": [
      "/Users/bedabratachoudhury/anaconda2/lib/python2.7/site-packages/sklearn/neighbors/approximate.py:258: DeprecationWarning: LSHForest has poor performance and has been deprecated in 0.19. It will be removed in version 0.21.\n",
      "  DeprecationWarning)\n"
     ]
    }
   ],
   "source": [
    "from sklearn.neighbors import LSHForest\n",
    "lshf = LSHForest(n_estimators=50).fit(codes)\n",
    "\n",
    "\n",
    "def get_similar(image, n_neighbors=5):\n",
    "    assert image.ndim==3,\"image must be [batch,height,width,3]\"\n",
    "\n",
    "    code = encoder.predict(image[None])\n",
    "    \n",
    "    (distances,),(idx,) = lshf.kneighbors(code,n_neighbors=n_neighbors)\n",
    "    \n",
    "    return distances,images[idx]"
   ]
  },
  {
   "cell_type": "code",
   "execution_count": 64,
   "metadata": {},
   "outputs": [],
   "source": [
    "def show_similar(image):\n",
    "    \n",
    "    distances,neighbors = get_similar(image,n_neighbors=11)\n",
    "    \n",
    "    plt.figure(figsize=[8,6])\n",
    "    plt.subplot(3,4,1)\n",
    "    plt.imshow(image)\n",
    "    plt.title(\"Original image\")\n",
    "    \n",
    "    for i in range(11):\n",
    "        plt.subplot(3,4,i+2)\n",
    "        plt.imshow(neighbors[i])\n",
    "        plt.title(\"Dist=%.3f\"%distances[i])\n",
    "    plt.show()"
   ]
  },
  {
   "cell_type": "code",
   "execution_count": 65,
   "metadata": {
    "scrolled": true
   },
   "outputs": [
    {
     "data": {
      "image/png": "[encoded data removed]",
      "text/plain": [
       "<matplotlib.figure.Figure at 0x1a4d5d3f10>"
      ]
     },
     "metadata": {
      "needs_background": "light"
     },
     "output_type": "display_data"
    }
   ],
   "source": [
    "import matplotlib.pyplot as plt\n",
    "show_similar(x_test[100])\n",
    "plt.show()"
   ]
  },
  {
   "cell_type": "code",
   "execution_count": null,
   "metadata": {},
   "outputs": [],
   "source": []
  },
  {
   "cell_type": "code",
   "execution_count": null,
   "metadata": {},
   "outputs": [],
   "source": []
  },
  {
   "cell_type": "code",
   "execution_count": null,
   "metadata": {},
   "outputs": [],
   "source": []
  }
 ],
 "metadata": {
  "kernelspec": {
   "display_name": "Python 2",
   "language": "python",
   "name": "python2"
  },
  "language_info": {
   "codemirror_mode": {
    "name": "ipython",
    "version": 2
   },
   "file_extension": ".py",
   "mimetype": "text/x-python",
   "name": "python",
   "nbconvert_exporter": "python",
   "pygments_lexer": "ipython2",
   "version": "2.7.15"
  }
 },
 "nbformat": 4,
 "nbformat_minor": 2
}
