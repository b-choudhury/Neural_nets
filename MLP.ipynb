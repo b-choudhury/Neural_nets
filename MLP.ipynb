{
 "cells": [
  {
   "cell_type": "code",
   "execution_count": 1,
   "metadata": {},
   "outputs": [
    {
     "name": "stderr",
     "output_type": "stream",
     "text": [
      "Using TensorFlow backend.\n"
     ]
    },
    {
     "name": "stdout",
     "output_type": "stream",
     "text": [
      "tf.estimator package not installed.\n",
      "tf.estimator package not installed.\n"
     ]
    }
   ],
   "source": [
    "import numpy as np\n",
    "from preprocessed_mnist import load_dataset\n",
    "import keras\n",
    "X_train, y_train, X_val, y_val, X_test, y_test = load_dataset()\n",
    "y_train,y_val,y_test = map(keras.utils.np_utils.to_categorical,[y_train,y_val,y_test])"
   ]
  },
  {
   "cell_type": "code",
   "execution_count": 2,
   "metadata": {},
   "outputs": [],
   "source": [
    "import numpy as np\n",
    "from preprocessed_mnist import load_dataset\n",
    "import keras\n",
    "X_train, y_train, X_val, y_val, X_test, y_test = load_dataset()\n",
    "y_train,y_val,y_test = map(keras.utils.np_utils.to_categorical,[y_train,y_val,y_test])"
   ]
  },
  {
   "cell_type": "code",
   "execution_count": 3,
   "metadata": {},
   "outputs": [
    {
     "data": {
      "image/png": "[encoded data removed]",
      "text/plain": [
       "<matplotlib.figure.Figure at 0xb31001e90>"
      ]
     },
     "metadata": {
      "needs_background": "light"
     },
     "output_type": "display_data"
    }
   ],
   "source": [
    "import matplotlib.pyplot as plt\n",
    "%matplotlib inline\n",
    "plt.imshow(X_train[0]);"
   ]
  },
  {
   "cell_type": "code",
   "execution_count": 5,
   "metadata": {},
   "outputs": [
    {
     "name": "stderr",
     "output_type": "stream",
     "text": [
      "/Users/bedabratachoudhury/anaconda2/lib/python2.7/site-packages/tensorflow/python/client/session.py:1702: UserWarning: An interactive session is already active. This can cause out-of-memory errors in some cases. You must explicitly call `InteractiveSession.close()` to release resources held by the other session(s).\n",
      "  warnings.warn('An interactive session is already active. This can '\n"
     ]
    }
   ],
   "source": [
    "import tensorflow as tf\n",
    "s = tf.InteractiveSession()"
   ]
  },
  {
   "cell_type": "code",
   "execution_count": 20,
   "metadata": {},
   "outputs": [],
   "source": [
    "import keras\n",
    "from keras.models import Sequential\n",
    "import keras.layers as ll\n",
    "\n",
    "model = Sequential(name=\"mlp\")\n",
    "\n",
    "model.add(ll.InputLayer([28, 28]))\n",
    "model.add(ll.Conv1D(filters=100, kernel_size=4, padding='same', activation='relu'))\n",
    "model.add(ll.MaxPool1D())\n",
    "model.add(ll.Conv1D(filters=100, kernel_size=4, padding='same', activation='relu'))\n",
    "model.add(ll.MaxPool1D())\n",
    "model.add(ll.Conv1D(filters=100, kernel_size=4, padding='same', activation='relu'))\n",
    "model.add(ll.MaxPool1D())\n",
    "model.add(ll.Conv1D(filters=100, kernel_size=4, padding='same', activation='relu'))\n",
    "model.add(ll.MaxPool1D())\n",
    "model.add(ll.Flatten())\n",
    "\n",
    "# network body\n",
    "\n",
    "model.add(ll.Dense(256))\n",
    "model.add(ll.Activation('relu'))\n",
    "\n",
    "model.add(ll.Dense(128))\n",
    "model.add(ll.Activation('relu'))\n",
    "\n",
    "model.add(ll.Dense(128))\n",
    "model.add(ll.Activation('relu'))\n",
    "\n",
    "# output layer: 10 neurons for each class with softmax\n",
    "model.add(ll.Dense(10, activation='softmax'))\n",
    "\n",
    "# categorical_crossentropy is your good old crossentropy\n",
    "# but applied for one-hot-encoded vectors\n",
    "model.compile(\"adam\", \"categorical_crossentropy\", metrics=[\"accuracy\"])"
   ]
  },
  {
   "cell_type": "code",
   "execution_count": 21,
   "metadata": {},
   "outputs": [
    {
     "name": "stdout",
     "output_type": "stream",
     "text": [
      "_________________________________________________________________\n",
      "Layer (type)                 Output Shape              Param #   \n",
      "=================================================================\n",
      "conv1d_26 (Conv1D)           (None, 28, 100)           11300     \n",
      "_________________________________________________________________\n",
      "max_pooling1d_22 (MaxPooling (None, 14, 100)           0         \n",
      "_________________________________________________________________\n",
      "conv1d_27 (Conv1D)           (None, 14, 100)           40100     \n",
      "_________________________________________________________________\n",
      "max_pooling1d_23 (MaxPooling (None, 7, 100)            0         \n",
      "_________________________________________________________________\n",
      "conv1d_28 (Conv1D)           (None, 7, 100)            40100     \n",
      "_________________________________________________________________\n",
      "max_pooling1d_24 (MaxPooling (None, 3, 100)            0         \n",
      "_________________________________________________________________\n",
      "conv1d_29 (Conv1D)           (None, 3, 100)            40100     \n",
      "_________________________________________________________________\n",
      "max_pooling1d_25 (MaxPooling (None, 1, 100)            0         \n",
      "_________________________________________________________________\n",
      "flatten_11 (Flatten)         (None, 100)               0         \n",
      "_________________________________________________________________\n",
      "dense_29 (Dense)             (None, 256)               25856     \n",
      "_________________________________________________________________\n",
      "activation_22 (Activation)   (None, 256)               0         \n",
      "_________________________________________________________________\n",
      "dense_30 (Dense)             (None, 128)               32896     \n",
      "_________________________________________________________________\n",
      "activation_23 (Activation)   (None, 128)               0         \n",
      "_________________________________________________________________\n",
      "dense_31 (Dense)             (None, 128)               16512     \n",
      "_________________________________________________________________\n",
      "activation_24 (Activation)   (None, 128)               0         \n",
      "_________________________________________________________________\n",
      "dense_32 (Dense)             (None, 10)                1290      \n",
      "=================================================================\n",
      "Total params: 208,154\n",
      "Trainable params: 208,154\n",
      "Non-trainable params: 0\n",
      "_________________________________________________________________\n"
     ]
    }
   ],
   "source": [
    "model.summary()"
   ]
  },
  {
   "cell_type": "code",
   "execution_count": 22,
   "metadata": {},
   "outputs": [
    {
     "name": "stdout",
     "output_type": "stream",
     "text": [
      "Train on 50000 samples, validate on 10000 samples\n",
      "Epoch 1/5\n",
      "50000/50000 [==============================] - 25s 504us/step - loss: 0.2127 - acc: 0.9332 - val_loss: 0.0863 - val_acc: 0.9743\n",
      "Epoch 2/5\n",
      "50000/50000 [==============================] - 26s 526us/step - loss: 0.0749 - acc: 0.9780 - val_loss: 0.0898 - val_acc: 0.9747\n",
      "Epoch 3/5\n",
      "50000/50000 [==============================] - 25s 503us/step - loss: 0.0573 - acc: 0.9846 - val_loss: 0.0544 - val_acc: 0.9856\n",
      "Epoch 4/5\n",
      "50000/50000 [==============================] - 24s 483us/step - loss: 0.0476 - acc: 0.9868 - val_loss: 0.0600 - val_acc: 0.9849\n",
      "Epoch 5/5\n",
      "50000/50000 [==============================] - 24s 475us/step - loss: 0.0413 - acc: 0.9887 - val_loss: 0.0629 - val_acc: 0.9834\n"
     ]
    }
   ],
   "source": [
    "# fit(X,y) ships with a neat automatic logging.\n",
    "#          Highly customizable under the hood.\n",
    "model.fit(X_train, y_train,\n",
    "          validation_data=(X_val, y_val), epochs=5);"
   ]
  },
  {
   "cell_type": "code",
   "execution_count": 23,
   "metadata": {},
   "outputs": [],
   "source": [
    "# Performance on Test Set\n",
    "test_predictions = model.predict_proba(X_test).argmax(axis=-1)\n",
    "test_answers = y_test.argmax(axis=-1)\n",
    "\n",
    "test_accuracy = np.mean(test_predictions==test_answers)"
   ]
  },
  {
   "cell_type": "code",
   "execution_count": 24,
   "metadata": {},
   "outputs": [
    {
     "name": "stdout",
     "output_type": "stream",
     "text": [
      "(98.54, '%')\n"
     ]
    }
   ],
   "source": [
    "print(test_accuracy*100,'%')"
   ]
  },
  {
   "cell_type": "code",
   "execution_count": null,
   "metadata": {},
   "outputs": [],
   "source": []
  }
 ],
 "metadata": {
  "kernelspec": {
   "display_name": "Python 3",
   "language": "python",
   "name": "python3"
  },
  "language_info": {
   "codemirror_mode": {
    "name": "ipython",
    "version": 2
   },
   "file_extension": ".py",
   "mimetype": "text/x-python",
   "name": "python",
   "nbconvert_exporter": "python",
   "pygments_lexer": "ipython2",
   "version": "2.7.15"
  }
 },
 "nbformat": 4,
 "nbformat_minor": 2
}
