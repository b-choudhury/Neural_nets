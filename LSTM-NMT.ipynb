'''Sequence to sequence example in Keras (character-level).
This script demonstrates how to implement a basic character-level
sequence-to-sequence model. We apply it to translating
short English sentences into short French sentences,
character-by-character. Note that it is fairly unusual to
do character-level machine translation, as word-level
models are more common in this domain.
# Summary of the algorithm
- We start with input sequences from a domain (e.g. English sentences)
    and corresponding target sequences from another domain
    (e.g. French sentences).
- An encoder LSTM turns input sequences to 2 state vectors
    (we keep the last LSTM state and discard the outputs).
- A decoder LSTM is trained to turn the target sequences into
    the same sequence but offset by one timestep in the future,
    a training process called "teacher forcing" in this context.
    Is uses as initial state the state vectors from the encoder.
    Effectively, the decoder learns to generate `targets[t+1...]`
    given `targets[...t]`, conditioned on the input sequence.
- In inference mode, when we want to decode unknown input sequences, we:
    - Encode the input sequence into state vectors
    - Start with a target sequence of size 1
        (just the start-of-sequence character)
    - Feed the state vectors and 1-char target sequence
        to the decoder to produce predictions for the next character
    - Sample the next character using these predictions
        (we simply use argmax).
    - Append the sampled character to the target sequence
    - Repeat until we generate the end-of-sequence character or we
        hit the character limit.
# Data download
English to French sentence pairs.
http://www.manythings.org/anki/fra-eng.zip
Lots of neat sentence pairs datasets can be found at:
http://www.manythings.org/anki/
# References
- Sequence to Sequence Learning with Neural Networks
    https://arxiv.org/abs/1409.3215
- Learning Phrase Representations using
    RNN Encoder-Decoder for Statistical Machine Translation
    https://arxiv.org/abs/1406.1078
'''


from __future__ import print_function

from keras.models import Model
from keras.layers import Input, LSTM, Dense
import numpy as np

batch_size = 64  # Batch size for training.
epochs = 120  # Number of epochs to train for.
latent_dim = 256  # Latent dimensionality of the encoding space.
num_samples = 10000  # Number of samples to train on.
# Path to the data txt file on disk.
data_path = 'fra.txt'

# Vectorize the data.
input_texts = []
target_texts = []
input_characters = set()
target_characters = set()
with open(data_path, 'r', encoding='utf-8') as f:
    lines = f.read().split('\n')
for line in lines[: min(num_samples, len(lines) - 1)]:
    input_text, target_text = line.split('\t')
    # We use "tab" as the "start sequence" character
    # for the targets, and "\n" as "end sequence" character.
    target_text = '\t' + target_text + '\n'
    input_texts.append(input_text)
    target_texts.append(target_text)
    for char in input_text:
        if char not in input_characters:
            input_characters.add(char)
    for char in target_text:
        if char not in target_characters:
            target_characters.add(char)


input_characters = sorted(list(input_characters))
target_characters = sorted(list(target_characters))
num_encoder_tokens = len(input_characters)
num_decoder_tokens = len(target_characters)
max_encoder_seq_length = max([len(txt) for txt in input_texts])
max_decoder_seq_length = max([len(txt) for txt in target_texts])

print('Number of samples:', len(input_texts))
print('Number of unique input tokens:', num_encoder_tokens)
print('Number of unique output tokens:', num_decoder_tokens)
print('Max sequence length for inputs:', max_encoder_seq_length)
print('Max sequence length for outputs:', max_decoder_seq_length)

input_token_index = dict(
    [(char, i) for i, char in enumerate(input_characters)])
target_token_index = dict(
    [(char, i) for i, char in enumerate(target_characters)])

encoder_input_data = np.zeros(
    (len(input_texts), max_encoder_seq_length, num_encoder_tokens),
    dtype='float32')
decoder_input_data = np.zeros(
    (len(input_texts), max_decoder_seq_length, num_decoder_tokens),
    dtype='float32')
decoder_target_data = np.zeros(
    (len(input_texts), max_decoder_seq_length, num_decoder_tokens),
    dtype='float32')

for i, (input_text, target_text) in enumerate(zip(input_texts, target_texts)):
    for t, char in enumerate(input_text):
        encoder_input_data[i, t, input_token_index[char]] = 1.
    for t, char in enumerate(target_text):
        # decoder_target_data is ahead of decoder_input_data by one timestep
        decoder_input_data[i, t, target_token_index[char]] = 1.
        if t > 0:
            # decoder_target_data will be ahead by one timestep
            # and will not include the start character.
            decoder_target_data[i, t - 1, target_token_index[char]] = 1.

# Define an input sequence and process it.
encoder_inputs = Input(shape=(None, num_encoder_tokens))
encoder = LSTM(latent_dim, return_state=True)
encoder_outputs, state_h, state_c = encoder(encoder_inputs)
# We discard `encoder_outputs` and only keep the states.
encoder_states = [state_h, state_c]

# Set up the decoder, using `encoder_states` as initial state.
decoder_inputs = Input(shape=(None, num_decoder_tokens))
# We set up our decoder to return full output sequences,
# and to return internal states as well. We don't use the
# return states in the training model, but we will use them in inference.
decoder_lstm = LSTM(latent_dim, return_sequences=True, return_state=True)
decoder_outputs, _, _ = decoder_lstm(decoder_inputs,
                                     initial_state=encoder_states)
decoder_dense = Dense(num_decoder_tokens, activation='softmax')
decoder_outputs = decoder_dense(decoder_outputs)

# Define the model that will turn
# `encoder_input_data` & `decoder_input_data` into `decoder_target_data`
model = Model([encoder_inputs, decoder_inputs], decoder_outputs)

# Run training
model.compile(optimizer='rmsprop', loss='categorical_crossentropy')
model.fit([encoder_input_data, decoder_input_data], decoder_target_data,
          batch_size=batch_size,
          epochs=epochs,
          validation_split=0.2)
# Save model
model.save('s2s.h5')

# Next: inference mode (sampling).
# Here's the drill:
# 1) encode input and retrieve initial decoder state
# 2) run one step of decoder with this initial state
# and a "start of sequence" token as target.
# Output will be the next target token
# 3) Repeat with the current target token and current states

# Define sampling models
encoder_model = Model(encoder_inputs, encoder_states)

decoder_state_input_h = Input(shape=(latent_dim,))
decoder_state_input_c = Input(shape=(latent_dim,))
decoder_states_inputs = [decoder_state_input_h, decoder_state_input_c]
decoder_outputs, state_h, state_c = decoder_lstm(
    decoder_inputs, initial_state=decoder_states_inputs)
decoder_states = [state_h, state_c]
decoder_outputs = decoder_dense(decoder_outputs)
decoder_model = Model(
    [decoder_inputs] + decoder_states_inputs,
    [decoder_outputs] + decoder_states)

# Reverse-lookup token index to decode sequences back to
# something readable.
reverse_input_char_index = dict(
    (i, char) for char, i in input_token_index.items())
reverse_target_char_index = dict(
    (i, char) for char, i in target_token_index.items())


def decode_sequence(input_seq):
    # Encode the input as state vectors.
    states_value = encoder_model.predict(input_seq)

    # Generate empty target sequence of length 1.
    target_seq = np.zeros((1, 1, num_decoder_tokens))
    # Populate the first character of target sequence with the start character.
    target_seq[0, 0, target_token_index['\t']] = 1.

    # Sampling loop for a batch of sequences
    # (to simplify, here we assume a batch of size 1).
    stop_condition = False
    decoded_sentence = ''
    while not stop_condition:
        output_tokens, h, c = decoder_model.predict(
            [target_seq] + states_value)

        # Sample a token
        sampled_token_index = np.argmax(output_tokens[0, -1, :])
        sampled_char = reverse_target_char_index[sampled_token_index]
        decoded_sentence += sampled_char

        # Exit condition: either hit max length
        # or find stop character.
        if (sampled_char == '\n' or
           len(decoded_sentence) > max_decoder_seq_length):
            stop_condition = True

        # Update the target sequence (of length 1).
        target_seq = np.zeros((1, 1, num_decoder_tokens))
        target_seq[0, 0, sampled_token_index] = 1.

        # Update states
        states_value = [h, c]

    return decoded_sentence


for seq_index in range(100):
    # Take one sequence (part of the training set)
    # for trying out decoding.
    input_seq = encoder_input_data[seq_index: seq_index + 1]
    decoded_sentence = decode_sequence(input_seq)
    print('-')
    print('Input sentence:', input_texts[seq_index])
    print('Decoded sentence:', decoded_sentence)


Number of samples: 10000
Number of unique input tokens: 71
Number of unique output tokens: 94
Max sequence length for inputs: 16
Max sequence length for outputs: 59
Train on 8000 samples, validate on 2000 samples
Epoch 1/100
8000/8000 [==============================] - 59s 7ms/step - loss: 0.9195 - val_loss: 0.9678
Epoch 2/100
8000/8000 [==============================] - 61s 8ms/step - loss: 0.7279 - val_loss: 0.7828
Epoch 3/100
8000/8000 [==============================] - 58s 7ms/step - loss: 0.6195 - val_loss: 0.7091
Epoch 4/100
8000/8000 [==============================] - 62s 8ms/step - loss: 0.5627 - val_loss: 0.6652
Epoch 5/100
8000/8000 [==============================] - 58s 7ms/step - loss: 0.5229 - val_loss: 0.6262
Epoch 6/100
8000/8000 [==============================] - 56s 7ms/step - loss: 0.4916 - val_loss: 0.5931
Epoch 7/100
8000/8000 [==============================] - 62s 8ms/step - loss: 0.4660 - val_loss: 0.5780
Epoch 8/100
8000/8000 [==============================] - 63s 8ms/step - loss: 0.4432 - val_loss: 0.5576
Epoch 9/100
8000/8000 [==============================] - 60s 7ms/step - loss: 0.4236 - val_loss: 0.5393
Epoch 10/100
8000/8000 [==============================] - 56s 7ms/step - loss: 0.4063 - val_loss: 0.5215
Epoch 11/100
8000/8000 [==============================] - 55s 7ms/step - loss: 0.3903 - val_loss: 0.5126
Epoch 12/100
8000/8000 [==============================] - 56s 7ms/step - loss: 0.3760 - val_loss: 0.5038
Epoch 13/100
8000/8000 [==============================] - 58s 7ms/step - loss: 0.3622 - val_loss: 0.4981
Epoch 14/100
8000/8000 [==============================] - 58s 7ms/step - loss: 0.3495 - val_loss: 0.4918
Epoch 15/100
8000/8000 [==============================] - 55s 7ms/step - loss: 0.3375 - val_loss: 0.4900
Epoch 16/100
8000/8000 [==============================] - 55s 7ms/step - loss: 0.3264 - val_loss: 0.4793
Epoch 17/100
8000/8000 [==============================] - 56s 7ms/step - loss: 0.3156 - val_loss: 0.4813
Epoch 18/100
8000/8000 [==============================] - 55s 7ms/step - loss: 0.3050 - val_loss: 0.4750
Epoch 19/100
8000/8000 [==============================] - 62s 8ms/step - loss: 0.2955 - val_loss: 0.4710
Epoch 20/100
8000/8000 [==============================] - 61s 8ms/step - loss: 0.2856 - val_loss: 0.4676
Epoch 21/100
8000/8000 [==============================] - 58s 7ms/step - loss: 0.2768 - val_loss: 0.4709
Epoch 22/100
8000/8000 [==============================] - 54s 7ms/step - loss: 0.2684 - val_loss: 0.4698
Epoch 23/100
8000/8000 [==============================] - 54s 7ms/step - loss: 0.2601 - val_loss: 0.4732
Epoch 24/100
8000/8000 [==============================] - 54s 7ms/step - loss: 0.2523 - val_loss: 0.4692
Epoch 25/100
8000/8000 [==============================] - 54s 7ms/step - loss: 0.2448 - val_loss: 0.4761
Epoch 26/100
8000/8000 [==============================] - 63s 8ms/step - loss: 0.2379 - val_loss: 0.4697
Epoch 27/100
8000/8000 [==============================] - 61s 8ms/step - loss: 0.2308 - val_loss: 0.4778
Epoch 28/100
8000/8000 [==============================] - 55s 7ms/step - loss: 0.2242 - val_loss: 0.4773
Epoch 29/100
8000/8000 [==============================] - 55s 7ms/step - loss: 0.2178 - val_loss: 0.4818
Epoch 30/100
8000/8000 [==============================] - 55s 7ms/step - loss: 0.2119 - val_loss: 0.4814
Epoch 31/100
8000/8000 [==============================] - 55s 7ms/step - loss: 0.2061 - val_loss: 0.4852
Epoch 32/100
8000/8000 [==============================] - 56s 7ms/step - loss: 0.2002 - val_loss: 0.4907
Epoch 33/100
8000/8000 [==============================] - 65s 8ms/step - loss: 0.1949 - val_loss: 0.4963
Epoch 34/100
8000/8000 [==============================] - 60s 8ms/step - loss: 0.1898 - val_loss: 0.4988
Epoch 35/100
8000/8000 [==============================] - 55s 7ms/step - loss: 0.1844 - val_loss: 0.5003
Epoch 36/100
8000/8000 [==============================] - 55s 7ms/step - loss: 0.1798 - val_loss: 0.5055
Epoch 37/100
8000/8000 [==============================] - 55s 7ms/step - loss: 0.1754 - val_loss: 0.5080
Epoch 38/100
8000/8000 [==============================] - 56s 7ms/step - loss: 0.1709 - val_loss: 0.5153
Epoch 39/100
8000/8000 [==============================] - 59s 7ms/step - loss: 0.1668 - val_loss: 0.5155
Epoch 40/100
8000/8000 [==============================] - 66s 8ms/step - loss: 0.1621 - val_loss: 0.5234
Epoch 41/100
8000/8000 [==============================] - 63s 8ms/step - loss: 0.1586 - val_loss: 0.5265
Epoch 42/100
8000/8000 [==============================] - 56s 7ms/step - loss: 0.1545 - val_loss: 0.5300
Epoch 43/100
8000/8000 [==============================] - 59s 7ms/step - loss: 0.1510 - val_loss: 0.5375
Epoch 44/100
8000/8000 [==============================] - 64s 8ms/step - loss: 0.1474 - val_loss: 0.5394
Epoch 45/100
8000/8000 [==============================] - 57s 7ms/step - loss: 0.1438 - val_loss: 0.5490
Epoch 46/100
8000/8000 [==============================] - 59s 7ms/step - loss: 0.1411 - val_loss: 0.5452
Epoch 47/100
8000/8000 [==============================] - 64s 8ms/step - loss: 0.1375 - val_loss: 0.5520
Epoch 48/100
8000/8000 [==============================] - 58s 7ms/step - loss: 0.1345 - val_loss: 0.5597
Epoch 49/100
8000/8000 [==============================] - 58s 7ms/step - loss: 0.1315 - val_loss: 0.5678
Epoch 50/100
8000/8000 [==============================] - 59s 7ms/step - loss: 0.1291 - val_loss: 0.5663
Epoch 51/100
8000/8000 [==============================] - 63s 8ms/step - loss: 0.1260 - val_loss: 0.5718
Epoch 52/100
8000/8000 [==============================] - 58s 7ms/step - loss: 0.1232 - val_loss: 0.5780
Epoch 53/100
8000/8000 [==============================] - 56s 7ms/step - loss: 0.1211 - val_loss: 0.5796
Epoch 54/100
8000/8000 [==============================] - 56s 7ms/step - loss: 0.1185 - val_loss: 0.5842
Epoch 55/100
8000/8000 [==============================] - 65s 8ms/step - loss: 0.1161 - val_loss: 0.5936
Epoch 56/100
8000/8000 [==============================] - 66s 8ms/step - loss: 0.1136 - val_loss: 0.5950
Epoch 57/100
8000/8000 [==============================] - 60s 8ms/step - loss: 0.1118 - val_loss: 0.5966
Epoch 58/100
8000/8000 [==============================] - 58s 7ms/step - loss: 0.1093 - val_loss: 0.6054
Epoch 59/100
8000/8000 [==============================] - 61s 8ms/step - loss: 0.1070 - val_loss: 0.6080
Epoch 60/100
8000/8000 [==============================] - 60s 7ms/step - loss: 0.1053 - val_loss: 0.6189
Epoch 61/100
8000/8000 [==============================] - 68s 9ms/step - loss: 0.1029 - val_loss: 0.6187
Epoch 62/100
8000/8000 [==============================] - 64s 8ms/step - loss: 0.1012 - val_loss: 0.6205
Epoch 63/100
8000/8000 [==============================] - 55s 7ms/step - loss: 0.0996 - val_loss: 0.6261
Epoch 64/100
8000/8000 [==============================] - 55s 7ms/step - loss: 0.0978 - val_loss: 0.6337
Epoch 65/100
8000/8000 [==============================] - 55s 7ms/step - loss: 0.0959 - val_loss: 0.6347
Epoch 66/100
8000/8000 [==============================] - 61s 8ms/step - loss: 0.0943 - val_loss: 0.6416
Epoch 67/100
8000/8000 [==============================] - 61s 8ms/step - loss: 0.0925 - val_loss: 0.6424
Epoch 68/100
8000/8000 [==============================] - 67s 8ms/step - loss: 0.0909 - val_loss: 0.6504
Epoch 69/100
8000/8000 [==============================] - 62s 8ms/step - loss: 0.0892 - val_loss: 0.6550
Epoch 70/100
8000/8000 [==============================] - 57s 7ms/step - loss: 0.0881 - val_loss: 0.6565
Epoch 71/100
8000/8000 [==============================] - 58s 7ms/step - loss: 0.0859 - val_loss: 0.6578
Epoch 72/100
8000/8000 [==============================] - 54s 7ms/step - loss: 0.0849 - val_loss: 0.6641
Epoch 73/100
8000/8000 [==============================] - 54s 7ms/step - loss: 0.0835 - val_loss: 0.6697
Epoch 74/100
8000/8000 [==============================] - 54s 7ms/step - loss: 0.0821 - val_loss: 0.6739
Epoch 75/100
8000/8000 [==============================] - 54s 7ms/step - loss: 0.0808 - val_loss: 0.6806
Epoch 76/100
8000/8000 [==============================] - 57s 7ms/step - loss: 0.0793 - val_loss: 0.6778
Epoch 77/100
8000/8000 [==============================] - 61s 8ms/step - loss: 0.0784 - val_loss: 0.6869
Epoch 78/100
8000/8000 [==============================] - 55s 7ms/step - loss: 0.0770 - val_loss: 0.6846
Epoch 79/100
8000/8000 [==============================] - 60s 8ms/step - loss: 0.0754 - val_loss: 0.6928
Epoch 80/100
8000/8000 [==============================] - 63s 8ms/step - loss: 0.0744 - val_loss: 0.6931
Epoch 81/100
8000/8000 [==============================] - 55s 7ms/step - loss: 0.0731 - val_loss: 0.7011
Epoch 82/100
8000/8000 [==============================] - 55s 7ms/step - loss: 0.0725 - val_loss: 0.7037
Epoch 83/100
8000/8000 [==============================] - 55s 7ms/step - loss: 0.0712 - val_loss: 0.7066
Epoch 84/100
8000/8000 [==============================] - 55s 7ms/step - loss: 0.0698 - val_loss: 0.7123
Epoch 85/100
8000/8000 [==============================] - 55s 7ms/step - loss: 0.0690 - val_loss: 0.7180
Epoch 86/100
8000/8000 [==============================] - 58s 7ms/step - loss: 0.0679 - val_loss: 0.7233
Epoch 87/100
8000/8000 [==============================] - 64s 8ms/step - loss: 0.0669 - val_loss: 0.7185
Epoch 88/100
8000/8000 [==============================] - 64s 8ms/step - loss: 0.0659 - val_loss: 0.7259
Epoch 89/100
8000/8000 [==============================] - 60s 7ms/step - loss: 0.0652 - val_loss: 0.7293
Epoch 90/100
8000/8000 [==============================] - 55s 7ms/step - loss: 0.0639 - val_loss: 0.7344
Epoch 91/100
8000/8000 [==============================] - 55s 7ms/step - loss: 0.0631 - val_loss: 0.7364
Epoch 92/100
8000/8000 [==============================] - 56s 7ms/step - loss: 0.0625 - val_loss: 0.7399
Epoch 93/100
8000/8000 [==============================] - 61s 8ms/step - loss: 0.0615 - val_loss: 0.7407
Epoch 94/100
8000/8000 [==============================] - 60s 7ms/step - loss: 0.0608 - val_loss: 0.7429
Epoch 95/100
8000/8000 [==============================] - 58s 7ms/step - loss: 0.0595 - val_loss: 0.7521
Epoch 96/100
8000/8000 [==============================] - 54s 7ms/step - loss: 0.0590 - val_loss: 0.7555
Epoch 97/100
8000/8000 [==============================] - 54s 7ms/step - loss: 0.0582 - val_loss: 0.7571
Epoch 98/100
8000/8000 [==============================] - 55s 7ms/step - loss: 0.0575 - val_loss: 0.7623
Epoch 99/100
8000/8000 [==============================] - 54s 7ms/step - loss: 0.0562 - val_loss: 0.7578
Epoch 100/100
8000/8000 [==============================] - 54s 7ms/step - loss: 0.0558 - val_loss: 0.7608
/anaconda3/lib/python3.6/site-packages/keras/engine/network.py:888: UserWarning: Layer lstm_2 was passed non-serializable keyword arguments: {'initial_state': [<tf.Tensor 'lstm_1/while/Exit_2:0' shape=(?, 256) dtype=float32>, <tf.Tensor 'lstm_1/while/Exit_3:0' shape=(?, 256) dtype=float32>]}. They will not be included in the serialized model (and thus will be missing at deserialization time).
  '. They will not be included '
-
Input sentence: Go.
Decoded sentence: Va !

-
Input sentence: Run!
Decoded sentence: Courez !

-
Input sentence: Run!
Decoded sentence: Courez !

-
Input sentence: Fire!
Decoded sentence: Au feu !

-
Input sentence: Help!
Decoded sentence: À l'aide !

-
Input sentence: Jump.
Decoded sentence: Saute.

-
Input sentence: Stop!
Decoded sentence: Arrête-toi !

-
Input sentence: Stop!
Decoded sentence: Arrête-toi !

-
Input sentence: Stop!
Decoded sentence: Arrête-toi !

-
Input sentence: Wait!
Decoded sentence: Attends !

-
Input sentence: Wait!
Decoded sentence: Attends !

-
Input sentence: Go on.
Decoded sentence: Poursuis.

-
Input sentence: Go on.
Decoded sentence: Poursuis.

-
Input sentence: Go on.
Decoded sentence: Poursuis.

-
Input sentence: I see.
Decoded sentence: Je vois une reiné.

-
Input sentence: I try.
Decoded sentence: J'essaye.

-
Input sentence: I won!
Decoded sentence: Je l'ai emporté !

-
Input sentence: I won!
Decoded sentence: Je l'ai emporté !

-
Input sentence: Oh no!
Decoded sentence: Oh non !

-
Input sentence: Attack!
Decoded sentence: Attaque !

-
Input sentence: Attack!
Decoded sentence: Attaque !

-
Input sentence: Cheers!
Decoded sentence: Tchin-tchin !

-
Input sentence: Cheers!
Decoded sentence: Tchin-tchin !

-
Input sentence: Cheers!
Decoded sentence: Tchin-tchin !

-
Input sentence: Cheers!
Decoded sentence: Tchin-tchin !

-
Input sentence: Get up.
Decoded sentence: Lève-toi.

-
Input sentence: Go now.
Decoded sentence: Vas-y maintenant.

-
Input sentence: Go now.
Decoded sentence: Vas-y maintenant.

-
Input sentence: Go now.
Decoded sentence: Vas-y maintenant.

-
Input sentence: Got it!
Decoded sentence: Compris !

-
Input sentence: Got it!
Decoded sentence: Compris !

-
Input sentence: Got it?
Decoded sentence: Compris ?

-
Input sentence: Got it?
Decoded sentence: Compris ?

-
Input sentence: Got it?
Decoded sentence: Compris ?

-
Input sentence: Hop in.
Decoded sentence: Montez.

-
Input sentence: Hop in.
Decoded sentence: Montez.

-
Input sentence: Hug me.
Decoded sentence: Serrez-moi dans vos bras !

-
Input sentence: Hug me.
Decoded sentence: Serrez-moi dans vos bras !

-
Input sentence: I fell.
Decoded sentence: Je suis tombée.

-
Input sentence: I fell.
Decoded sentence: Je suis tombée.

-
Input sentence: I know.
Decoded sentence: Je sais.

-
Input sentence: I left.
Decoded sentence: Je suis partie.

-
Input sentence: I left.
Decoded sentence: Je suis partie.

-
Input sentence: I lost.
Decoded sentence: J'ai perdu.

-
Input sentence: I'm 19.
Decoded sentence: J'ai raison.

-
Input sentence: I'm OK.
Decoded sentence: Je suis mieux.

-
Input sentence: I'm OK.
Decoded sentence: Je suis mieux.

-
Input sentence: Listen.
Decoded sentence: Écoutez !

-
Input sentence: No way!
Decoded sentence: C'est hors de question !

-
Input sentence: No way!
Decoded sentence: C'est hors de question !

-
Input sentence: No way!
Decoded sentence: C'est hors de question !

-
Input sentence: No way!
Decoded sentence: C'est hors de question !

-
Input sentence: No way!
Decoded sentence: C'est hors de question !

-
Input sentence: No way!
Decoded sentence: C'est hors de question !

-
Input sentence: No way!
Decoded sentence: C'est hors de question !

-
Input sentence: No way!
Decoded sentence: C'est hors de question !

-
Input sentence: No way!
Decoded sentence: C'est hors de question !

-
Input sentence: Really?
Decoded sentence: Vraiment ?

-
Input sentence: Really?
Decoded sentence: Vraiment ?

-
Input sentence: Really?
Decoded sentence: Vraiment ?

-
Input sentence: Thanks.
Decoded sentence: Merci !

-
Input sentence: We try.
Decoded sentence: On essaye.

-
Input sentence: We won.
Decoded sentence: Nous avons eu dembat.

-
Input sentence: We won.
Decoded sentence: Nous avons eu dembat.

-
Input sentence: We won.
Decoded sentence: Nous avons eu dembat.

-
Input sentence: We won.
Decoded sentence: Nous avons eu dembat.

-
Input sentence: Ask Tom.
Decoded sentence: Demande à Tom.

-
Input sentence: Awesome!
Decoded sentence: Devantez !

-
Input sentence: Be calm.
Decoded sentence: Soyez calme !

-
Input sentence: Be calm.
Decoded sentence: Soyez calme !

-
Input sentence: Be calm.
Decoded sentence: Soyez calme !

-
Input sentence: Be cool.
Decoded sentence: Sois détendu !

-
Input sentence: Be fair.
Decoded sentence: Soyez juste !

-
Input sentence: Be fair.
Decoded sentence: Soyez juste !

-
Input sentence: Be fair.
Decoded sentence: Soyez juste !

-
Input sentence: Be fair.
Decoded sentence: Soyez juste !

-
Input sentence: Be fair.
Decoded sentence: Soyez juste !

-
Input sentence: Be fair.
Decoded sentence: Soyez juste !

-
Input sentence: Be kind.
Decoded sentence: Sois gentil.

-
Input sentence: Be nice.
Decoded sentence: Soyez gentille !

-
Input sentence: Be nice.
Decoded sentence: Soyez gentille !

-
Input sentence: Be nice.
Decoded sentence: Soyez gentille !

-
Input sentence: Be nice.
Decoded sentence: Soyez gentille !

-
Input sentence: Be nice.
Decoded sentence: Soyez gentille !

-
Input sentence: Be nice.
Decoded sentence: Soyez gentille !

-
Input sentence: Beat it.
Decoded sentence: Dégage !

-
Input sentence: Call me.
Decoded sentence: Appellez-moi !

-
Input sentence: Call me.
Decoded sentence: Appellez-moi !

-
Input sentence: Call us.
Decoded sentence: Appelle-nous !

-
Input sentence: Call us.
Decoded sentence: Appelle-nous !

-
Input sentence: Come in.
Decoded sentence: Entrez !

-
Input sentence: Come in.
Decoded sentence: Entrez !

-
Input sentence: Come in.
Decoded sentence: Entrez !

-
Input sentence: Come in.
Decoded sentence: Entrez !

-
Input sentence: Come on!
Decoded sentence: Allez !

-
Input sentence: Come on.
Decoded sentence: Viens !

-
Input sentence: Come on.
Decoded sentence: Viens !

-
Input sentence: Come on.
Decoded sentence: Viens !

-
Input sentence: Drop it!
Decoded sentence: Laissez tomber !

-
Input sentence: Drop it!
Decoded sentence: Laissez tomber !
